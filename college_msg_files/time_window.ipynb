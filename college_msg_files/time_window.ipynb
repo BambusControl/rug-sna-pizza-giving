{
 "cells": [
  {
   "metadata": {},
   "cell_type": "markdown",
   "source": "# Imports and Data",
   "id": "b891a735ab949470"
  },
  {
   "cell_type": "code",
   "id": "initial_id",
   "metadata": {
    "collapsed": true,
    "ExecuteTime": {
     "end_time": "2024-11-03T18:26:48.149759Z",
     "start_time": "2024-11-03T18:26:48.130046Z"
    }
   },
   "source": [
    "from typing import NamedTuple\n",
    "import pandas as pd\n",
    "from pathlib import Path\n",
    "import networkx as nx\n",
    "import matplotlib.pyplot as plt\n",
    "from tqdm import tqdm\n",
    "from functools import lru_cache\n",
    "\n",
    "\n",
    "class CollegeMessage(NamedTuple):\n",
    "    source: int  #source id\n",
    "    target: int  # target id\n",
    "    unix_timestamp: int  # seconds after last epoc\n",
    "\n",
    "\n",
    "def read_message_data(datapath: str) -> list[CollegeMessage]:\n",
    "    filepath = Path.cwd() / Path(datapath)\n",
    "\n",
    "    if not filepath.exists():\n",
    "        raise FileNotFoundError(\n",
    "            f\"File not found: {filepath}; \" +\n",
    "            f\"Current working directory: {Path.cwd()}; \" +\n",
    "            f\"Relative path to data file: {Path(datapath)}\"\n",
    "        )\n",
    "\n",
    "    print(f\"Using file: {filepath.absolute()}\")\n",
    "\n",
    "    messages = []\n",
    "    with open(filepath, 'r', encoding=\"UTF-8\") as f:\n",
    "        for line in f:\n",
    "            source, target, timestamp = line.strip().split()\n",
    "            messages.append(CollegeMessage(int(source), int(target), int(timestamp)))\n",
    "    print(\"done\")\n",
    "    return messages\n",
    "\n",
    "\n",
    "def remove_low_degree_nodes(data: pd.DataFrame, min_degree: int) -> pd.DataFrame:\n",
    "    in_degree = data['target'].value_counts()\n",
    "    out_degree = data['source'].value_counts()\n",
    "    high_degree_nodes = set(in_degree[in_degree >= min_degree].index) & set(out_degree[out_degree >= min_degree].index)\n",
    "    return data[data['source'].isin(high_degree_nodes) & data['target'].isin(high_degree_nodes)]\n",
    "\n",
    "\n",
    "def create_graph(data: pd.DataFrame) -> nx.DiGraph:\n",
    "    digraph = nx.DiGraph()\n",
    "\n",
    "    for row in data.itertuples(index=False):\n",
    "        digraph.add_edge(row.source, row.target, timestamp=row.unix_timestamp)\n",
    "\n",
    "    return digraph\n",
    "\n",
    "\n",
    "def graph_figure(graph: nx.DiGraph):\n",
    "    pos = nx.arf_layout(graph)\n",
    "    nx.draw(graph, pos, with_labels=False, node_size=10)\n",
    "\n",
    "\n",
    "# Layout calculations, cached by LRU to avoid recalculating the layout\n",
    "@lru_cache(maxsize=None)\n",
    "def cache_layout(graph: nx.DiGraph, layout_func: callable):\n",
    "    print(\"Calculating layout ...\")\n",
    "    layout = layout_func(graph)\n",
    "    print(\"... done calculating layout\")\n",
    "    return layout"
   ],
   "outputs": [],
   "execution_count": 12
  },
  {
   "metadata": {
    "ExecuteTime": {
     "end_time": "2024-11-03T18:26:48.469966Z",
     "start_time": "2024-11-03T18:26:48.163359Z"
    }
   },
   "cell_type": "code",
   "source": [
    "_DATA_PATH = \"./dataset/CollegeMsg.txt\"\n",
    "\n",
    "_MESSAGES = read_message_data(_DATA_PATH)\n",
    "\n",
    "DF_MESSAGES = remove_low_degree_nodes(pd.DataFrame(_MESSAGES), 2)\n",
    "\n",
    "GRAPH_MESSAGES = create_graph(DF_MESSAGES)"
   ],
   "id": "fd787e6743403ac0",
   "outputs": [
    {
     "name": "stdout",
     "output_type": "stream",
     "text": [
      "Using file: C:\\Users\\majerm\\projects\\local\\rug-sna-pizza-giving\\college_msg_files\\dataset\\CollegeMsg.txt\n",
      "done\n"
     ]
    }
   ],
   "execution_count": 13
  },
  {
   "metadata": {
    "ExecuteTime": {
     "end_time": "2024-11-03T18:26:48.527405Z",
     "start_time": "2024-11-03T18:26:48.511625Z"
    }
   },
   "cell_type": "code",
   "source": "DF_MESSAGES.head()",
   "id": "caf63dbe19c7de3d",
   "outputs": [
    {
     "data": {
      "text/plain": [
       "    source  target  unix_timestamp\n",
       "39      41      42      1082574211\n",
       "48      36      50      1082597715\n",
       "49      44      51      1082597751\n",
       "50      32      52      1082598056\n",
       "51      36      32      1082598122"
      ],
      "text/html": [
       "<div>\n",
       "<style scoped>\n",
       "    .dataframe tbody tr th:only-of-type {\n",
       "        vertical-align: middle;\n",
       "    }\n",
       "\n",
       "    .dataframe tbody tr th {\n",
       "        vertical-align: top;\n",
       "    }\n",
       "\n",
       "    .dataframe thead th {\n",
       "        text-align: right;\n",
       "    }\n",
       "</style>\n",
       "<table border=\"1\" class=\"dataframe\">\n",
       "  <thead>\n",
       "    <tr style=\"text-align: right;\">\n",
       "      <th></th>\n",
       "      <th>source</th>\n",
       "      <th>target</th>\n",
       "      <th>unix_timestamp</th>\n",
       "    </tr>\n",
       "  </thead>\n",
       "  <tbody>\n",
       "    <tr>\n",
       "      <th>39</th>\n",
       "      <td>41</td>\n",
       "      <td>42</td>\n",
       "      <td>1082574211</td>\n",
       "    </tr>\n",
       "    <tr>\n",
       "      <th>48</th>\n",
       "      <td>36</td>\n",
       "      <td>50</td>\n",
       "      <td>1082597715</td>\n",
       "    </tr>\n",
       "    <tr>\n",
       "      <th>49</th>\n",
       "      <td>44</td>\n",
       "      <td>51</td>\n",
       "      <td>1082597751</td>\n",
       "    </tr>\n",
       "    <tr>\n",
       "      <th>50</th>\n",
       "      <td>32</td>\n",
       "      <td>52</td>\n",
       "      <td>1082598056</td>\n",
       "    </tr>\n",
       "    <tr>\n",
       "      <th>51</th>\n",
       "      <td>36</td>\n",
       "      <td>32</td>\n",
       "      <td>1082598122</td>\n",
       "    </tr>\n",
       "  </tbody>\n",
       "</table>\n",
       "</div>"
      ]
     },
     "execution_count": 14,
     "metadata": {},
     "output_type": "execute_result"
    }
   ],
   "execution_count": 14
  },
  {
   "metadata": {},
   "cell_type": "markdown",
   "source": "# Time window",
   "id": "f53e44906266b7c3"
  },
  {
   "metadata": {
    "ExecuteTime": {
     "end_time": "2024-11-03T18:26:48.612487Z",
     "start_time": "2024-11-03T18:26:48.576248Z"
    }
   },
   "cell_type": "code",
   "source": [
    "def time_window(graph: nx.DiGraph, unix_start: int, unix_end: int) -> nx.DiGraph:\n",
    "    return graph.edge_subgraph([\n",
    "        (source, target)\n",
    "        for source, target, timestamp in graph.edges(data='timestamp')\n",
    "        if unix_start <= timestamp <= unix_end\n",
    "    ])\n",
    "\n",
    "\n",
    "import networkx as nx\n",
    "from pathlib import Path\n",
    "from matplotlib.colors import Normalize\n",
    "\n",
    "def export_graph_undirected(\n",
    "        graph: nx.Graph,\n",
    "        pos: dict,\n",
    "        export_path: Path = None,\n",
    "        fig_size=(20, 20),\n",
    "        base_node_size=0,\n",
    "        node_size_factor=10,\n",
    "        edge_alpha=0.2,\n",
    "        edge_color='gray',\n",
    "        node_color_map='viridis',\n",
    "        default_node_color='lightgray',\n",
    "        dpi=300,\n",
    "        xlim=None,\n",
    "        ylim=None\n",
    "):\n",
    "    \"\"\"\n",
    "    Exports a NetworkX undirected graph to an image file with consistent styling,\n",
    "    edge widths based on message counts, and a colormap for node intensities.\n",
    "\n",
    "    Parameters:\n",
    "    - graph (nx.Graph): The undirected graph to export with 'weight' on edges.\n",
    "    - pos (dict): A dictionary specifying node positions.\n",
    "    - export_path (Path, optional): Path to save the exported image. If None, the image is not saved.\n",
    "    - fig_size (tuple, optional): Size of the figure in inches. Defaults to (10, 10).\n",
    "    - base_node_size (int, optional): Base size for nodes. Defaults to 100.\n",
    "    - node_size_factor (int, optional): Factor to scale node sizes based on degree. Defaults to 20.\n",
    "    - edge_alpha (float, optional): Transparency level for edges (0 to 1). Defaults to 0.6.\n",
    "    - edge_color (str or list, optional): Color of the edges. Defaults to 'gray'.\n",
    "    - node_color_map (str, optional): Matplotlib colormap name for node colors. Defaults to 'viridis'.\n",
    "    - default_node_color (str, optional): Color for nodes with zero messages. Defaults to 'lightgray'.\n",
    "    - dpi (int, optional): Dots per inch for the saved image. Defaults to 300.\n",
    "    - xlim (tuple, optional): Limits for the x-axis.\n",
    "    - ylim (tuple, optional): Limits for the y-axis.\n",
    "    \"\"\"\n",
    "\n",
    "    # Create a new figure with the specified size\n",
    "    plt.figure(figsize=fig_size)\n",
    "\n",
    "    # Calculate degrees\n",
    "    degrees = dict(graph.degree())\n",
    "\n",
    "    # Scale node sizes\n",
    "    node_sizes = [base_node_size + degrees[node] * node_size_factor for node in graph.nodes()]\n",
    "\n",
    "    # Prepare color mapping\n",
    "    non_zero_degrees = [deg for deg in degrees.values() if deg > 0]\n",
    "\n",
    "    if non_zero_degrees:\n",
    "        norm = Normalize(vmin=min(non_zero_degrees), vmax=max(non_zero_degrees))\n",
    "        cmap = plt.colormaps.get_cmap(node_color_map)\n",
    "        node_colors = [\n",
    "            cmap(norm(degrees[node])) if degrees[node] > 0 else default_node_color\n",
    "            for node in graph.nodes()\n",
    "        ]\n",
    "    else:\n",
    "        node_colors = [default_node_color for _ in graph.nodes()]\n",
    "\n",
    "    # Prepare edge widths\n",
    "    edge_weights = [graph[u][v]['weight'] for u, v in graph.edges()]\n",
    "    if edge_weights:\n",
    "        max_weight = max(edge_weights)\n",
    "        min_weight = min(edge_weights)\n",
    "        min_width = 0.5\n",
    "        max_width = 2\n",
    "        if max_weight == min_weight:\n",
    "            edge_widths = [(max_width + min_width) / 2 for _ in edge_weights]\n",
    "        else:\n",
    "            edge_widths = [\n",
    "                min_width + (weight - min_weight) / (max_weight - min_weight) * (max_width - min_width)\n",
    "                for weight in edge_weights\n",
    "            ]\n",
    "    else:\n",
    "        edge_widths = []\n",
    "\n",
    "    # Draw edges\n",
    "    nx.draw_networkx_edges(\n",
    "        graph,\n",
    "        pos,\n",
    "        alpha=edge_alpha,\n",
    "        edge_color=edge_color,\n",
    "        width=edge_widths\n",
    "    )\n",
    "\n",
    "    # Draw nodes\n",
    "    nx.draw_networkx_nodes(\n",
    "        graph,\n",
    "        pos,\n",
    "        node_size=node_sizes,\n",
    "        node_color=node_colors,\n",
    "        linewidths=0.5\n",
    "    )\n",
    "\n",
    "    # Set consistent axis limits\n",
    "    if xlim and ylim:\n",
    "        plt.xlim(xlim)\n",
    "        plt.ylim(ylim)\n",
    "\n",
    "    # Optional: Remove axes for a cleaner look\n",
    "    plt.axis('off')\n",
    "\n",
    "    # Save the figure if an export path is provided\n",
    "    if export_path:\n",
    "        # Ensure the parent directory exists\n",
    "        export_path.parent.mkdir(parents=True, exist_ok=True)\n",
    "        plt.savefig(export_path, bbox_inches='tight', dpi=dpi, pad_inches=0.1)\n",
    "\n",
    "    # Close the figure to free up memory\n",
    "    plt.close()\n",
    "\n",
    "\n",
    "def time_window_undirected(graph: nx.DiGraph, unix_start: int, unix_end: int) -> nx.Graph:\n",
    "    \"\"\"\n",
    "    Extracts a subgraph within the specified time window, treating edges as undirected\n",
    "    and aggregating the number of messages between node pairs.\n",
    "\n",
    "    Parameters:\n",
    "    - graph (nx.DiGraph): The original directed graph with 'timestamp' on edges.\n",
    "    - unix_start (int): Start of the time window (inclusive).\n",
    "    - unix_end (int): End of the time window (inclusive).\n",
    "\n",
    "    Returns:\n",
    "    - nx.Graph: An undirected graph with 'weight' attributes on edges.\n",
    "    \"\"\"\n",
    "    # Filter edges within the time window\n",
    "    filtered_edges = [\n",
    "        (min(source, target), max(source, target))\n",
    "        for source, target, timestamp in graph.edges(data='timestamp')\n",
    "        if unix_start <= timestamp <= unix_end\n",
    "    ]\n",
    "\n",
    "    # Aggregate message counts between node pairs\n",
    "    edge_weights = {}\n",
    "    for src, dest in filtered_edges:\n",
    "        if (src, dest) in edge_weights:\n",
    "            edge_weights[(src, dest)] += 1\n",
    "        else:\n",
    "            edge_weights[(src, dest)] = 1\n",
    "\n",
    "    # Create an undirected graph\n",
    "    undirected_graph = nx.Graph()\n",
    "    undirected_graph.add_nodes_from(graph.nodes(data=True))\n",
    "\n",
    "    # Add edges with 'weight' attribute\n",
    "    for (src, dest), weight in edge_weights.items():\n",
    "        undirected_graph.add_edge(src, dest, weight=weight)\n",
    "\n",
    "    return undirected_graph\n",
    "\n",
    "\n",
    "from pathlib import Path\n",
    "from tqdm import tqdm\n",
    "import math\n",
    "\n",
    "\n",
    "def export_time_windows_undirected(pos: dict, window_size_days, window_step_days, max_windows=None):\n",
    "    \"\"\"\n",
    "    Exports graph visualizations for each time window into uniquely numbered folders.\n",
    "    Each graph is undirected with edge widths based on message counts.\n",
    "\n",
    "    Parameters:\n",
    "    - pos (dict): A dictionary specifying node positions.\n",
    "    \"\"\"\n",
    "    start_unix_timestamp = DF_MESSAGES['unix_timestamp'].min()\n",
    "    end_unix_timestamp = DF_MESSAGES['unix_timestamp'].max()\n",
    "\n",
    "    day_in_seconds = 60 * 60 * 24\n",
    "    window_in_seconds = window_size_days * day_in_seconds\n",
    "    window_step_in_seconds = window_step_days * day_in_seconds\n",
    "    total_seconds = end_unix_timestamp - start_unix_timestamp\n",
    "    total_windows = max(1, math.ceil((total_seconds - window_in_seconds) / window_step_in_seconds) + 1) if max_windows is None else max_windows\n",
    "\n",
    "    # Generate timeframes for each day\n",
    "    timeframes = (\n",
    "        start_unix_timestamp + window_step_in_seconds * i\n",
    "        for i in range(total_windows)\n",
    "    )\n",
    "\n",
    "    # Generate subgraphs for each timeframe\n",
    "    subgraphs = (\n",
    "        time_window_undirected(GRAPH_MESSAGES, timeframe, timeframe + window_in_seconds)\n",
    "        for timeframe in timeframes\n",
    "    )\n",
    "\n",
    "    # Determine the next export folder using pathlib\n",
    "    export_base = Path(\"./export\")\n",
    "    export_base.mkdir(exist_ok=True)\n",
    "\n",
    "    new_folder_name = f\"overview - window {window_size_days} every {window_step_days}\"\n",
    "    new_folder = export_base / new_folder_name\n",
    "    \n",
    "    if new_folder.exists():\n",
    "        print(f\"Skipping folder: '{new_folder_name}' as it exists already\")\n",
    "        return\n",
    "    \n",
    "    new_folder.mkdir()\n",
    "\n",
    "    # Calculate consistent axis limits\n",
    "    x_values = [pos[node][0] for node in pos]\n",
    "    y_values = [pos[node][1] for node in pos]\n",
    "    x_min, x_max = min(x_values), max(x_values)\n",
    "    y_min, y_max = min(y_values), max(y_values)\n",
    "    x_padding = (x_max - x_min) * 0.05\n",
    "    y_padding = (y_max - y_min) * 0.05\n",
    "    xlim = (x_min - x_padding, x_max + x_padding)\n",
    "    ylim = (y_min - y_padding, y_max + y_padding)\n",
    "\n",
    "    # Iterate over each subgraph and export the corresponding graph image\n",
    "    for i, graph in tqdm(enumerate(subgraphs), total=total_windows, desc=\"Exporting graphs\"):\n",
    "        export_path = new_folder / f\"graph_{i:03}.png\"\n",
    "        export_graph_undirected(\n",
    "            graph,\n",
    "            pos,\n",
    "            export_path,\n",
    "            node_color_map='plasma',\n",
    "            default_node_color='lightgray',\n",
    "            xlim=xlim,\n",
    "            ylim=ylim\n",
    "        )\n"
   ],
   "id": "8a117f9deaccbba9",
   "outputs": [],
   "execution_count": 15
  },
  {
   "metadata": {
    "ExecuteTime": {
     "end_time": "2024-11-03T19:11:03.748161Z",
     "start_time": "2024-11-03T18:26:48.640137Z"
    }
   },
   "cell_type": "code",
   "source": [
    "variations = (\n",
    "    (7 * step, step) \n",
    "    for step in range(1, 8)\n",
    ")\n",
    "\n",
    "for variation in variations:\n",
    "    export_time_windows_undirected(cache_layout(GRAPH_MESSAGES, nx.arf_layout), *variation)"
   ],
   "id": "ade2c59d048ab1dd",
   "outputs": [
    {
     "name": "stdout",
     "output_type": "stream",
     "text": [
      "Calculating layout ...\n",
      "... done calculating layout\n",
      "Exporting graphs to folder: .export\\window 2 every 1\n"
     ]
    },
    {
     "name": "stderr",
     "output_type": "stream",
     "text": [
      "Exporting graphs: 100%|██████████| 187/187 [03:55<00:00,  1.26s/it]\n"
     ]
    },
    {
     "name": "stdout",
     "output_type": "stream",
     "text": [
      "All graphs have been exported to .export\\window 2 every 1\n",
      "Exporting graphs to folder: .export\\window 3 every 1\n"
     ]
    },
    {
     "name": "stderr",
     "output_type": "stream",
     "text": [
      "Exporting graphs: 100%|██████████| 186/186 [04:00<00:00,  1.29s/it]\n"
     ]
    },
    {
     "name": "stdout",
     "output_type": "stream",
     "text": [
      "All graphs have been exported to .export\\window 3 every 1\n",
      "Exporting graphs to folder: .export\\window 7 every 1\n"
     ]
    },
    {
     "name": "stderr",
     "output_type": "stream",
     "text": [
      "Exporting graphs: 100%|██████████| 182/182 [04:52<00:00,  1.61s/it]\n"
     ]
    },
    {
     "name": "stdout",
     "output_type": "stream",
     "text": [
      "All graphs have been exported to .export\\window 7 every 1\n",
      "Exporting graphs to folder: .export\\window 7 every 2\n"
     ]
    },
    {
     "name": "stderr",
     "output_type": "stream",
     "text": [
      "Exporting graphs: 100%|██████████| 92/92 [02:22<00:00,  1.55s/it]\n"
     ]
    },
    {
     "name": "stdout",
     "output_type": "stream",
     "text": [
      "All graphs have been exported to .export\\window 7 every 2\n",
      "Exporting graphs to folder: .export\\window 14 every 1\n"
     ]
    },
    {
     "name": "stderr",
     "output_type": "stream",
     "text": [
      "Exporting graphs: 100%|██████████| 175/175 [05:38<00:00,  1.93s/it]\n"
     ]
    },
    {
     "name": "stdout",
     "output_type": "stream",
     "text": [
      "All graphs have been exported to .export\\window 14 every 1\n",
      "Exporting graphs to folder: .export\\window 14 every 2\n"
     ]
    },
    {
     "name": "stderr",
     "output_type": "stream",
     "text": [
      "Exporting graphs: 100%|██████████| 88/88 [02:54<00:00,  1.98s/it]\n"
     ]
    },
    {
     "name": "stdout",
     "output_type": "stream",
     "text": [
      "All graphs have been exported to .export\\window 14 every 2\n",
      "Exporting graphs to folder: .export\\window 14 every 7\n"
     ]
    },
    {
     "name": "stderr",
     "output_type": "stream",
     "text": [
      "Exporting graphs: 100%|██████████| 26/26 [00:46<00:00,  1.80s/it]\n"
     ]
    },
    {
     "name": "stdout",
     "output_type": "stream",
     "text": [
      "All graphs have been exported to .export\\window 14 every 7\n",
      "Exporting graphs to folder: .export\\window 21 every 1\n"
     ]
    },
    {
     "name": "stderr",
     "output_type": "stream",
     "text": [
      "Exporting graphs: 100%|██████████| 168/168 [05:43<00:00,  2.05s/it]\n"
     ]
    },
    {
     "name": "stdout",
     "output_type": "stream",
     "text": [
      "All graphs have been exported to .export\\window 21 every 1\n",
      "Exporting graphs to folder: .export\\window 21 every 2\n"
     ]
    },
    {
     "name": "stderr",
     "output_type": "stream",
     "text": [
      "Exporting graphs: 100%|██████████| 85/85 [02:57<00:00,  2.09s/it]\n"
     ]
    },
    {
     "name": "stdout",
     "output_type": "stream",
     "text": [
      "All graphs have been exported to .export\\window 21 every 2\n",
      "Exporting graphs to folder: .export\\window 21 every 3\n"
     ]
    },
    {
     "name": "stderr",
     "output_type": "stream",
     "text": [
      "Exporting graphs: 100%|██████████| 57/57 [02:02<00:00,  2.14s/it]\n"
     ]
    },
    {
     "name": "stdout",
     "output_type": "stream",
     "text": [
      "All graphs have been exported to .export\\window 21 every 3\n",
      "Exporting graphs to folder: .export\\window 21 every 7\n"
     ]
    },
    {
     "name": "stderr",
     "output_type": "stream",
     "text": [
      "Exporting graphs: 100%|██████████| 25/25 [00:51<00:00,  2.06s/it]\n"
     ]
    },
    {
     "name": "stdout",
     "output_type": "stream",
     "text": [
      "All graphs have been exported to .export\\window 21 every 7\n",
      "Exporting graphs to folder: .export\\window 28 every 2\n"
     ]
    },
    {
     "name": "stderr",
     "output_type": "stream",
     "text": [
      "Exporting graphs: 100%|██████████| 81/81 [03:39<00:00,  2.70s/it]\n"
     ]
    },
    {
     "name": "stdout",
     "output_type": "stream",
     "text": [
      "All graphs have been exported to .export\\window 28 every 2\n",
      "Exporting graphs to folder: .export\\window 28 every 4\n"
     ]
    },
    {
     "name": "stderr",
     "output_type": "stream",
     "text": [
      "Exporting graphs: 100%|██████████| 41/41 [01:32<00:00,  2.26s/it]\n"
     ]
    },
    {
     "name": "stdout",
     "output_type": "stream",
     "text": [
      "All graphs have been exported to .export\\window 28 every 4\n",
      "Exporting graphs to folder: .export\\window 28 every 7\n"
     ]
    },
    {
     "name": "stderr",
     "output_type": "stream",
     "text": [
      "Exporting graphs: 100%|██████████| 24/24 [00:54<00:00,  2.29s/it]\n"
     ]
    },
    {
     "name": "stdout",
     "output_type": "stream",
     "text": [
      "All graphs have been exported to .export\\window 28 every 7\n",
      "Exporting graphs to folder: .export\\window 28 every 14\n"
     ]
    },
    {
     "name": "stderr",
     "output_type": "stream",
     "text": [
      "Exporting graphs: 100%|██████████| 13/13 [00:29<00:00,  2.25s/it]"
     ]
    },
    {
     "name": "stdout",
     "output_type": "stream",
     "text": [
      "All graphs have been exported to .export\\window 28 every 14\n"
     ]
    },
    {
     "name": "stderr",
     "output_type": "stream",
     "text": [
      "\n"
     ]
    }
   ],
   "execution_count": 16
  }
 ],
 "metadata": {
  "kernelspec": {
   "display_name": "Python 3",
   "language": "python",
   "name": "python3"
  },
  "language_info": {
   "codemirror_mode": {
    "name": "ipython",
    "version": 2
   },
   "file_extension": ".py",
   "mimetype": "text/x-python",
   "name": "python",
   "nbconvert_exporter": "python",
   "pygments_lexer": "ipython2",
   "version": "2.7.6"
  }
 },
 "nbformat": 4,
 "nbformat_minor": 5
}
