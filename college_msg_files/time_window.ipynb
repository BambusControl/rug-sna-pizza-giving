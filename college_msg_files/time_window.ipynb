{
 "cells": [
  {
   "metadata": {},
   "cell_type": "markdown",
   "source": "# Imports and Data",
   "id": "b891a735ab949470"
  },
  {
   "cell_type": "code",
   "id": "initial_id",
   "metadata": {
    "collapsed": true,
    "ExecuteTime": {
     "end_time": "2024-11-03T10:35:46.821905Z",
     "start_time": "2024-11-03T10:35:45.396129Z"
    }
   },
   "source": [
    "from typing import NamedTuple\n",
    "import pandas as pd\n",
    "from pathlib import Path\n",
    "import networkx as nx\n",
    "import matplotlib.pyplot as plt\n",
    "\n",
    "\n",
    "class CollegeMessage(NamedTuple):\n",
    "    source: int  #source id\n",
    "    target: int  # target id\n",
    "    unix_timestamp: int  # seconds after last epoc\n",
    "\n",
    "\n",
    "def read_message_data(datapath: str) -> list[CollegeMessage]:\n",
    "    filepath = Path.cwd() / Path(datapath)\n",
    "\n",
    "    if not filepath.exists():\n",
    "        raise FileNotFoundError(\n",
    "            f\"File not found: {filepath}; \" +\n",
    "            f\"Current working directory: {Path.cwd()}; \" +\n",
    "            f\"Relative path to data file: {Path(datapath)}\"\n",
    "        )\n",
    "\n",
    "    print(f\"Using file: {filepath.absolute()}\")\n",
    "\n",
    "    messages = []\n",
    "    with open(filepath, 'r', encoding=\"UTF-8\") as f:\n",
    "        for line in f:\n",
    "            source, target, timestamp = line.strip().split()\n",
    "            messages.append(CollegeMessage(int(source), int(target), int(timestamp)))\n",
    "    print(\"done\")\n",
    "    return messages\n",
    "\n",
    "\n",
    "def remove_low_degree_nodes(data: pd.DataFrame, min_degree: int) -> pd.DataFrame:\n",
    "    in_degree = data['target'].value_counts()\n",
    "    out_degree = data['source'].value_counts()\n",
    "    high_degree_nodes = set(in_degree[in_degree >= min_degree].index) & set(out_degree[out_degree >= min_degree].index)\n",
    "    return data[data['source'].isin(high_degree_nodes) & data['target'].isin(high_degree_nodes)]\n",
    "\n",
    "\n",
    "def create_graph(data: pd.DataFrame) -> nx.DiGraph:\n",
    "    digraph = nx.DiGraph()\n",
    "\n",
    "    for row in data.itertuples(index=False):\n",
    "        digraph.add_edge(row.source, row.target, timestamp=row.unix_timestamp)\n",
    "\n",
    "    return digraph\n",
    "\n",
    "\n",
    "def graph_figure(graph: nx.DiGraph):\n",
    "    pos = nx.arf_layout(graph)\n",
    "    nx.draw(graph, pos, with_labels=False, node_size=10)"
   ],
   "outputs": [],
   "execution_count": 1
  },
  {
   "metadata": {
    "ExecuteTime": {
     "end_time": "2024-11-03T10:55:22.749221Z",
     "start_time": "2024-11-03T10:55:22.199145Z"
    }
   },
   "cell_type": "code",
   "source": [
    "_DATA_PATH = \"./dataset/CollegeMsg.txt\"\n",
    "\n",
    "_MESSAGES = read_message_data(_DATA_PATH)\n",
    "\n",
    "DF_MESSAGES = remove_low_degree_nodes(pd.DataFrame(_MESSAGES), 2)\n",
    "\n",
    "# Add python date timestamp from unix timestamp\n",
    "DF_MESSAGES['timestamp'] = pd.to_datetime(DF_MESSAGES['unix_timestamp'], unit='s')\n",
    "\n",
    "GRAPH_MESSAGES = create_graph(DF_MESSAGES)"
   ],
   "id": "fd787e6743403ac0",
   "outputs": [
    {
     "name": "stdout",
     "output_type": "stream",
     "text": [
      "Using file: /home/mojmir-majer/projects/private/github/rug-sna-pizza-giving/college_msg_files/dataset/CollegeMsg.txt\n",
      "done\n"
     ]
    }
   ],
   "execution_count": 5
  },
  {
   "metadata": {
    "ExecuteTime": {
     "end_time": "2024-11-03T10:52:28.115386Z",
     "start_time": "2024-11-03T10:52:28.107651Z"
    }
   },
   "cell_type": "code",
   "source": "DF_MESSAGES.head()",
   "id": "caf63dbe19c7de3d",
   "outputs": [
    {
     "data": {
      "text/plain": [
       "    source  target  unix_timestamp\n",
       "39      41      42      1082574211\n",
       "48      36      50      1082597715\n",
       "49      44      51      1082597751\n",
       "50      32      52      1082598056\n",
       "51      36      32      1082598122"
      ],
      "text/html": [
       "<div>\n",
       "<style scoped>\n",
       "    .dataframe tbody tr th:only-of-type {\n",
       "        vertical-align: middle;\n",
       "    }\n",
       "\n",
       "    .dataframe tbody tr th {\n",
       "        vertical-align: top;\n",
       "    }\n",
       "\n",
       "    .dataframe thead th {\n",
       "        text-align: right;\n",
       "    }\n",
       "</style>\n",
       "<table border=\"1\" class=\"dataframe\">\n",
       "  <thead>\n",
       "    <tr style=\"text-align: right;\">\n",
       "      <th></th>\n",
       "      <th>source</th>\n",
       "      <th>target</th>\n",
       "      <th>unix_timestamp</th>\n",
       "    </tr>\n",
       "  </thead>\n",
       "  <tbody>\n",
       "    <tr>\n",
       "      <th>39</th>\n",
       "      <td>41</td>\n",
       "      <td>42</td>\n",
       "      <td>1082574211</td>\n",
       "    </tr>\n",
       "    <tr>\n",
       "      <th>48</th>\n",
       "      <td>36</td>\n",
       "      <td>50</td>\n",
       "      <td>1082597715</td>\n",
       "    </tr>\n",
       "    <tr>\n",
       "      <th>49</th>\n",
       "      <td>44</td>\n",
       "      <td>51</td>\n",
       "      <td>1082597751</td>\n",
       "    </tr>\n",
       "    <tr>\n",
       "      <th>50</th>\n",
       "      <td>32</td>\n",
       "      <td>52</td>\n",
       "      <td>1082598056</td>\n",
       "    </tr>\n",
       "    <tr>\n",
       "      <th>51</th>\n",
       "      <td>36</td>\n",
       "      <td>32</td>\n",
       "      <td>1082598122</td>\n",
       "    </tr>\n",
       "  </tbody>\n",
       "</table>\n",
       "</div>"
      ]
     },
     "execution_count": 4,
     "metadata": {},
     "output_type": "execute_result"
    }
   ],
   "execution_count": 4
  },
  {
   "metadata": {},
   "cell_type": "markdown",
   "source": "# Time window",
   "id": "f53e44906266b7c3"
  },
  {
   "metadata": {},
   "cell_type": "code",
   "source": [
    "def time_window(graph: nx.DiGraph, start: pd.Timestamp, end: pd.Timestamp) -> nx.DiGraph:\n",
    "    return graph.edge_subgraph([\n",
    "        (source, target)\n",
    "        for source, target, timestamp in graph.edges(data='timestamp')\n",
    "        if start <= timestamp <= end\n",
    "    ])\n",
    "\n",
    "def plot_time_window(graph: nx.DiGraph, start: pd.Timestamp, end: pd.Timestamp):\n",
    "    subgraph = time_window(graph, start, end)\n",
    "    pos = nx.arf_layout(subgraph)\n",
    "    nx.draw(subgraph, pos, with_labels=False, node_size=10)"
   ],
   "id": "ef38022a761f259b",
   "outputs": [],
   "execution_count": null
  },
  {
   "metadata": {},
   "cell_type": "code",
   "outputs": [],
   "execution_count": null,
   "source": [
    "D_START_TIMEFRAME = DF_MESSAGES['timestamp'].min()\n",
    "D_END_TIMEFRAME = DF_MESSAGES['timestamp'].max()\n",
    "D_DAYS = (D_END_TIMEFRAME - D_START_TIMEFRAME).days\n",
    "\n",
    "# Sliding window of day by day\n",
    "for i in range(0, D_DAYS):\n",
    "    start = D_START_TIMEFRAME + pd.Timedelta(days=i)\n",
    "    end = start + pd.Timedelta(days=1)\n",
    "    plot_time_window(GRAPH_MESSAGES, start, end)\n",
    "    plt.title(f\"Day {i}\")\n",
    "    plt.show()\n"
   ],
   "id": "7304c3cde095bf9e"
  }
 ],
 "metadata": {
  "kernelspec": {
   "display_name": "Python 3",
   "language": "python",
   "name": "python3"
  },
  "language_info": {
   "codemirror_mode": {
    "name": "ipython",
    "version": 2
   },
   "file_extension": ".py",
   "mimetype": "text/x-python",
   "name": "python",
   "nbconvert_exporter": "python",
   "pygments_lexer": "ipython2",
   "version": "2.7.6"
  }
 },
 "nbformat": 4,
 "nbformat_minor": 5
}
