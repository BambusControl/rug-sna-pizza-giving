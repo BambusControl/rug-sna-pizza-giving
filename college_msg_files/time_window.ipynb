{
 "cells": [
  {
   "metadata": {},
   "cell_type": "markdown",
   "source": "# Imports and Data",
   "id": "b891a735ab949470"
  },
  {
   "cell_type": "code",
   "id": "initial_id",
   "metadata": {
    "collapsed": true,
    "ExecuteTime": {
     "end_time": "2024-11-03T12:02:44.553953Z",
     "start_time": "2024-11-03T12:02:44.541570Z"
    }
   },
   "source": [
    "from typing import NamedTuple\n",
    "import pandas as pd\n",
    "from pathlib import Path\n",
    "import networkx as nx\n",
    "import matplotlib.pyplot as plt\n",
    "from tqdm import tqdm\n",
    "from functools import lru_cache\n",
    "\n",
    "\n",
    "class CollegeMessage(NamedTuple):\n",
    "    source: int  #source id\n",
    "    target: int  # target id\n",
    "    unix_timestamp: int  # seconds after last epoc\n",
    "\n",
    "\n",
    "def read_message_data(datapath: str) -> list[CollegeMessage]:\n",
    "    filepath = Path.cwd() / Path(datapath)\n",
    "\n",
    "    if not filepath.exists():\n",
    "        raise FileNotFoundError(\n",
    "            f\"File not found: {filepath}; \" +\n",
    "            f\"Current working directory: {Path.cwd()}; \" +\n",
    "            f\"Relative path to data file: {Path(datapath)}\"\n",
    "        )\n",
    "\n",
    "    print(f\"Using file: {filepath.absolute()}\")\n",
    "\n",
    "    messages = []\n",
    "    with open(filepath, 'r', encoding=\"UTF-8\") as f:\n",
    "        for line in f:\n",
    "            source, target, timestamp = line.strip().split()\n",
    "            messages.append(CollegeMessage(int(source), int(target), int(timestamp)))\n",
    "    print(\"done\")\n",
    "    return messages\n",
    "\n",
    "\n",
    "def remove_low_degree_nodes(data: pd.DataFrame, min_degree: int) -> pd.DataFrame:\n",
    "    in_degree = data['target'].value_counts()\n",
    "    out_degree = data['source'].value_counts()\n",
    "    high_degree_nodes = set(in_degree[in_degree >= min_degree].index) & set(out_degree[out_degree >= min_degree].index)\n",
    "    return data[data['source'].isin(high_degree_nodes) & data['target'].isin(high_degree_nodes)]\n",
    "\n",
    "\n",
    "def create_graph(data: pd.DataFrame) -> nx.DiGraph:\n",
    "    digraph = nx.DiGraph()\n",
    "\n",
    "    for row in data.itertuples(index=False):\n",
    "        digraph.add_edge(row.source, row.target, timestamp=row.unix_timestamp)\n",
    "\n",
    "    return digraph\n",
    "\n",
    "\n",
    "def graph_figure(graph: nx.DiGraph):\n",
    "    pos = nx.arf_layout(graph)\n",
    "    nx.draw(graph, pos, with_labels=False, node_size=10)\n",
    "        \n",
    "\n",
    "# Layout calculations, cached by LRU to avoid recalculating the layout\n",
    "@lru_cache(maxsize=None)\n",
    "def cache_layout(graph: nx.DiGraph, layout_func: callable):\n",
    "    print(\"Calculating layout ...\")\n",
    "    layout = layout_func(graph)\n",
    "    print(\"... done calculating layout\")\n",
    "    return layout"
   ],
   "outputs": [],
   "execution_count": 79
  },
  {
   "metadata": {
    "ExecuteTime": {
     "end_time": "2024-11-03T12:02:45.209682Z",
     "start_time": "2024-11-03T12:02:44.631604Z"
    }
   },
   "cell_type": "code",
   "source": [
    "_DATA_PATH = \"./dataset/CollegeMsg.txt\"\n",
    "\n",
    "_MESSAGES = read_message_data(_DATA_PATH)\n",
    "\n",
    "DF_MESSAGES = remove_low_degree_nodes(pd.DataFrame(_MESSAGES), 2)\n",
    "\n",
    "GRAPH_MESSAGES = create_graph(DF_MESSAGES)"
   ],
   "id": "fd787e6743403ac0",
   "outputs": [
    {
     "name": "stdout",
     "output_type": "stream",
     "text": [
      "Using file: /home/mojmir-majer/projects/private/github/rug-sna-pizza-giving/college_msg_files/dataset/CollegeMsg.txt\n",
      "done\n"
     ]
    }
   ],
   "execution_count": 80
  },
  {
   "metadata": {
    "ExecuteTime": {
     "end_time": "2024-11-03T12:02:45.226527Z",
     "start_time": "2024-11-03T12:02:45.218151Z"
    }
   },
   "cell_type": "code",
   "source": "DF_MESSAGES.head()",
   "id": "caf63dbe19c7de3d",
   "outputs": [
    {
     "data": {
      "text/plain": [
       "    source  target  unix_timestamp\n",
       "39      41      42      1082574211\n",
       "48      36      50      1082597715\n",
       "49      44      51      1082597751\n",
       "50      32      52      1082598056\n",
       "51      36      32      1082598122"
      ],
      "text/html": [
       "<div>\n",
       "<style scoped>\n",
       "    .dataframe tbody tr th:only-of-type {\n",
       "        vertical-align: middle;\n",
       "    }\n",
       "\n",
       "    .dataframe tbody tr th {\n",
       "        vertical-align: top;\n",
       "    }\n",
       "\n",
       "    .dataframe thead th {\n",
       "        text-align: right;\n",
       "    }\n",
       "</style>\n",
       "<table border=\"1\" class=\"dataframe\">\n",
       "  <thead>\n",
       "    <tr style=\"text-align: right;\">\n",
       "      <th></th>\n",
       "      <th>source</th>\n",
       "      <th>target</th>\n",
       "      <th>unix_timestamp</th>\n",
       "    </tr>\n",
       "  </thead>\n",
       "  <tbody>\n",
       "    <tr>\n",
       "      <th>39</th>\n",
       "      <td>41</td>\n",
       "      <td>42</td>\n",
       "      <td>1082574211</td>\n",
       "    </tr>\n",
       "    <tr>\n",
       "      <th>48</th>\n",
       "      <td>36</td>\n",
       "      <td>50</td>\n",
       "      <td>1082597715</td>\n",
       "    </tr>\n",
       "    <tr>\n",
       "      <th>49</th>\n",
       "      <td>44</td>\n",
       "      <td>51</td>\n",
       "      <td>1082597751</td>\n",
       "    </tr>\n",
       "    <tr>\n",
       "      <th>50</th>\n",
       "      <td>32</td>\n",
       "      <td>52</td>\n",
       "      <td>1082598056</td>\n",
       "    </tr>\n",
       "    <tr>\n",
       "      <th>51</th>\n",
       "      <td>36</td>\n",
       "      <td>32</td>\n",
       "      <td>1082598122</td>\n",
       "    </tr>\n",
       "  </tbody>\n",
       "</table>\n",
       "</div>"
      ]
     },
     "execution_count": 81,
     "metadata": {},
     "output_type": "execute_result"
    }
   ],
   "execution_count": 81
  },
  {
   "metadata": {},
   "cell_type": "markdown",
   "source": "# Time window",
   "id": "f53e44906266b7c3"
  },
  {
   "metadata": {
    "ExecuteTime": {
     "end_time": "2024-11-03T12:02:45.321177Z",
     "start_time": "2024-11-03T12:02:45.313867Z"
    }
   },
   "cell_type": "code",
   "source": [
    "def time_window(graph: nx.DiGraph, unix_start: int, unix_end: int) -> nx.DiGraph:\n",
    "    return graph.edge_subgraph([\n",
    "        (source, target)\n",
    "        for source, target, timestamp in graph.edges(data='timestamp')\n",
    "        if unix_start <= timestamp <= unix_end\n",
    "    ])\n",
    "\n",
    "\n",
    "def export_graph(\n",
    "        graph: nx.DiGraph,\n",
    "        pos: dict,\n",
    "        export_path: str = None\n",
    "):\n",
    "    nx.draw(graph, pos=pos, with_labels=False, node_size=10)\n",
    "\n",
    "    if export_path:\n",
    "        plt.savefig(export_path)\n",
    "\n",
    "    plt.clf()\n",
    "\n",
    "\n",
    "def export_time_windows(pos: dict):\n",
    "    start_unix_timestamp = DF_MESSAGES['unix_timestamp'].min()\n",
    "    end_unix_timestamp = DF_MESSAGES['unix_timestamp'].max()\n",
    "\n",
    "    # todo all days\n",
    "    # start_datetime = pd.to_datetime(start_unix_timestamp)\n",
    "    # end_datetime = pd.to_datetime(end_unix_timestamp)\n",
    "    # days = (start_datetime - end_datetime).days\n",
    "    total = 14\n",
    "\n",
    "    day_in_seconds = 60 * 60 * 24\n",
    "\n",
    "    timeframes = (\n",
    "        start_unix_timestamp + day_in_seconds * i\n",
    "        for i in range(0, total)\n",
    "    )\n",
    "\n",
    "    # graphs for timeframes\n",
    "    subgraphs = (\n",
    "        time_window(GRAPH_MESSAGES, timeframe, timeframe + day_in_seconds)\n",
    "        for timeframe in timeframes\n",
    "    )\n",
    "\n",
    "    for i, graph in tqdm(enumerate(subgraphs), total=total):\n",
    "        export_graph(graph, pos, f\"./.export/graph_{i}.png\")"
   ],
   "id": "dc045f5d7cfe775",
   "outputs": [],
   "execution_count": 82
  },
  {
   "metadata": {
    "ExecuteTime": {
     "end_time": "2024-11-03T12:10:26.522206Z",
     "start_time": "2024-11-03T12:10:15.571416Z"
    }
   },
   "cell_type": "code",
   "source": "export_time_windows(cache_layout(GRAPH_MESSAGES, nx.spectral_layout))",
   "id": "ef38022a761f259b",
   "outputs": [
    {
     "name": "stdout",
     "output_type": "stream",
     "text": [
      "Calculating layout ...\n",
      "... done calculating layout\n"
     ]
    },
    {
     "name": "stderr",
     "output_type": "stream",
     "text": [
      "100%|██████████| 14/14 [00:10<00:00,  1.32it/s]\n"
     ]
    },
    {
     "data": {
      "text/plain": [
       "<Figure size 640x480 with 0 Axes>"
      ]
     },
     "metadata": {},
     "output_type": "display_data"
    }
   ],
   "execution_count": 85
  }
 ],
 "metadata": {
  "kernelspec": {
   "display_name": "Python 3",
   "language": "python",
   "name": "python3"
  },
  "language_info": {
   "codemirror_mode": {
    "name": "ipython",
    "version": 2
   },
   "file_extension": ".py",
   "mimetype": "text/x-python",
   "name": "python",
   "nbconvert_exporter": "python",
   "pygments_lexer": "ipython2",
   "version": "2.7.6"
  }
 },
 "nbformat": 4,
 "nbformat_minor": 5
}
