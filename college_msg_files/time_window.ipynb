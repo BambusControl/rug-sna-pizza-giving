{
 "cells": [
  {
   "metadata": {},
   "cell_type": "markdown",
   "source": "# Imports and Data",
   "id": "b891a735ab949470"
  },
  {
   "cell_type": "code",
   "id": "initial_id",
   "metadata": {
    "collapsed": true,
    "ExecuteTime": {
     "end_time": "2024-11-03T11:00:00.724420Z",
     "start_time": "2024-11-03T11:00:00.717333Z"
    }
   },
   "source": [
    "from typing import NamedTuple\n",
    "import pandas as pd\n",
    "from pathlib import Path\n",
    "import networkx as nx\n",
    "import matplotlib.pyplot as plt\n",
    "\n",
    "\n",
    "class CollegeMessage(NamedTuple):\n",
    "    source: int  #source id\n",
    "    target: int  # target id\n",
    "    unix_timestamp: int  # seconds after last epoc\n",
    "\n",
    "\n",
    "def read_message_data(datapath: str) -> list[CollegeMessage]:\n",
    "    filepath = Path.cwd() / Path(datapath)\n",
    "\n",
    "    if not filepath.exists():\n",
    "        raise FileNotFoundError(\n",
    "            f\"File not found: {filepath}; \" +\n",
    "            f\"Current working directory: {Path.cwd()}; \" +\n",
    "            f\"Relative path to data file: {Path(datapath)}\"\n",
    "        )\n",
    "\n",
    "    print(f\"Using file: {filepath.absolute()}\")\n",
    "\n",
    "    messages = []\n",
    "    with open(filepath, 'r', encoding=\"UTF-8\") as f:\n",
    "        for line in f:\n",
    "            source, target, timestamp = line.strip().split()\n",
    "            messages.append(CollegeMessage(int(source), int(target), int(timestamp)))\n",
    "    print(\"done\")\n",
    "    return messages\n",
    "\n",
    "\n",
    "def remove_low_degree_nodes(data: pd.DataFrame, min_degree: int) -> pd.DataFrame:\n",
    "    in_degree = data['target'].value_counts()\n",
    "    out_degree = data['source'].value_counts()\n",
    "    high_degree_nodes = set(in_degree[in_degree >= min_degree].index) & set(out_degree[out_degree >= min_degree].index)\n",
    "    return data[data['source'].isin(high_degree_nodes) & data['target'].isin(high_degree_nodes)]\n",
    "\n",
    "\n",
    "def create_graph(data: pd.DataFrame) -> nx.DiGraph:\n",
    "    digraph = nx.DiGraph()\n",
    "\n",
    "    for row in data.itertuples(index=False):\n",
    "        digraph.add_edge(row.source, row.target, timestamp=row.unix_timestamp)\n",
    "\n",
    "    return digraph\n",
    "\n",
    "\n",
    "def graph_figure(graph: nx.DiGraph):\n",
    "    pos = nx.arf_layout(graph)\n",
    "    nx.draw(graph, pos, with_labels=False, node_size=10)"
   ],
   "outputs": [],
   "execution_count": 6
  },
  {
   "metadata": {
    "ExecuteTime": {
     "end_time": "2024-11-03T11:07:07.671243Z",
     "start_time": "2024-11-03T11:07:07.003504Z"
    }
   },
   "cell_type": "code",
   "source": [
    "_DATA_PATH = \"./dataset/CollegeMsg.txt\"\n",
    "\n",
    "_MESSAGES = read_message_data(_DATA_PATH)\n",
    "\n",
    "DF_MESSAGES = remove_low_degree_nodes(pd.DataFrame(_MESSAGES), 2)\n",
    "\n",
    "GRAPH_MESSAGES = create_graph(DF_MESSAGES)"
   ],
   "id": "fd787e6743403ac0",
   "outputs": [
    {
     "name": "stdout",
     "output_type": "stream",
     "text": [
      "Using file: /home/mojmir-majer/projects/private/github/rug-sna-pizza-giving/college_msg_files/dataset/CollegeMsg.txt\n",
      "done\n"
     ]
    }
   ],
   "execution_count": 32
  },
  {
   "metadata": {
    "ExecuteTime": {
     "end_time": "2024-11-03T11:07:10.102105Z",
     "start_time": "2024-11-03T11:07:10.095773Z"
    }
   },
   "cell_type": "code",
   "source": "DF_MESSAGES.head()",
   "id": "caf63dbe19c7de3d",
   "outputs": [
    {
     "data": {
      "text/plain": [
       "    source  target  unix_timestamp\n",
       "39      41      42      1082574211\n",
       "48      36      50      1082597715\n",
       "49      44      51      1082597751\n",
       "50      32      52      1082598056\n",
       "51      36      32      1082598122"
      ],
      "text/html": [
       "<div>\n",
       "<style scoped>\n",
       "    .dataframe tbody tr th:only-of-type {\n",
       "        vertical-align: middle;\n",
       "    }\n",
       "\n",
       "    .dataframe tbody tr th {\n",
       "        vertical-align: top;\n",
       "    }\n",
       "\n",
       "    .dataframe thead th {\n",
       "        text-align: right;\n",
       "    }\n",
       "</style>\n",
       "<table border=\"1\" class=\"dataframe\">\n",
       "  <thead>\n",
       "    <tr style=\"text-align: right;\">\n",
       "      <th></th>\n",
       "      <th>source</th>\n",
       "      <th>target</th>\n",
       "      <th>unix_timestamp</th>\n",
       "    </tr>\n",
       "  </thead>\n",
       "  <tbody>\n",
       "    <tr>\n",
       "      <th>39</th>\n",
       "      <td>41</td>\n",
       "      <td>42</td>\n",
       "      <td>1082574211</td>\n",
       "    </tr>\n",
       "    <tr>\n",
       "      <th>48</th>\n",
       "      <td>36</td>\n",
       "      <td>50</td>\n",
       "      <td>1082597715</td>\n",
       "    </tr>\n",
       "    <tr>\n",
       "      <th>49</th>\n",
       "      <td>44</td>\n",
       "      <td>51</td>\n",
       "      <td>1082597751</td>\n",
       "    </tr>\n",
       "    <tr>\n",
       "      <th>50</th>\n",
       "      <td>32</td>\n",
       "      <td>52</td>\n",
       "      <td>1082598056</td>\n",
       "    </tr>\n",
       "    <tr>\n",
       "      <th>51</th>\n",
       "      <td>36</td>\n",
       "      <td>32</td>\n",
       "      <td>1082598122</td>\n",
       "    </tr>\n",
       "  </tbody>\n",
       "</table>\n",
       "</div>"
      ]
     },
     "execution_count": 33,
     "metadata": {},
     "output_type": "execute_result"
    }
   ],
   "execution_count": 33
  },
  {
   "metadata": {},
   "cell_type": "markdown",
   "source": "# Time window",
   "id": "f53e44906266b7c3"
  },
  {
   "metadata": {
    "ExecuteTime": {
     "end_time": "2024-11-03T11:13:04.637365Z",
     "start_time": "2024-11-03T11:12:04.723680Z"
    }
   },
   "cell_type": "code",
   "source": [
    "def time_window(graph: nx.DiGraph, unix_start: int, unix_end: int) -> nx.DiGraph:\n",
    "    return graph.edge_subgraph([\n",
    "        (source, target)\n",
    "        for source, target, timestamp in graph.edges(data='timestamp')\n",
    "        if unix_start <= timestamp <= unix_end\n",
    "    ])\n",
    "\n",
    "def plot_time_window(graph: nx.DiGraph, start: pd.Timestamp, end: pd.Timestamp):\n",
    "    subgraph = time_window(graph, start, end)\n",
    "    pos = nx.arf_layout(subgraph)\n",
    "    nx.draw(subgraph, pos, with_labels=False, node_size=10)\n",
    "    \n",
    "start_unix_timestamp = DF_MESSAGES['unix_timestamp'].min()\n",
    "end_unix_timestamp = DF_MESSAGES['unix_timestamp'].max()\n",
    "\n",
    "start_datetime = pd.to_datetime(start_unix_timestamp)\n",
    "end_datetime = pd.to_datetime(end_unix_timestamp)\n",
    "\n",
    "days = (start_datetime - end_datetime).days\n",
    "day_in_seconds = 60 * 60 * 24\n",
    "\n",
    "# Generator for int unix_timestamp day by day\n",
    "timeframes = (\n",
    "    start_unix_timestamp + day_in_seconds * i\n",
    "    for i in range(0, days)\n",
    ")\n",
    "\n",
    "plot_time_window(GRAPH_MESSAGES, start_unix_timestamp, start_unix_timestamp + day_in_seconds)\n",
    "\n",
    "# Sliding window of day by day\n",
    "# for i in range(0, D_DAYS):\n",
    "#     start = D_START_TIMEFRAME + pd.Timedelta(days=i)\n",
    "#     end = start + pd.Timedelta(days=1)\n",
    "#     plot_time_window(GRAPH_MESSAGES, start, end)\n",
    "#     plt.title(f\"Day {i}\")\n",
    "#     plt.show()\n"
   ],
   "id": "ef38022a761f259b",
   "outputs": [
    {
     "ename": "KeyboardInterrupt",
     "evalue": "",
     "output_type": "error",
     "traceback": [
      "\u001B[0;31m---------------------------------------------------------------------------\u001B[0m",
      "\u001B[0;31mKeyboardInterrupt\u001B[0m                         Traceback (most recent call last)",
      "Cell \u001B[0;32mIn[39], line 28\u001B[0m\n\u001B[1;32m     22\u001B[0m \u001B[38;5;66;03m# Generator for int unix_timestamp day by day\u001B[39;00m\n\u001B[1;32m     23\u001B[0m timeframes \u001B[38;5;241m=\u001B[39m (\n\u001B[1;32m     24\u001B[0m     start_unix_timestamp \u001B[38;5;241m+\u001B[39m day_in_seconds \u001B[38;5;241m*\u001B[39m i\n\u001B[1;32m     25\u001B[0m     \u001B[38;5;28;01mfor\u001B[39;00m i \u001B[38;5;129;01min\u001B[39;00m \u001B[38;5;28mrange\u001B[39m(\u001B[38;5;241m0\u001B[39m, days)\n\u001B[1;32m     26\u001B[0m )\n\u001B[0;32m---> 28\u001B[0m \u001B[43mplot_time_window\u001B[49m\u001B[43m(\u001B[49m\u001B[43mGRAPH_MESSAGES\u001B[49m\u001B[43m,\u001B[49m\u001B[43m \u001B[49m\u001B[43mstart_unix_timestamp\u001B[49m\u001B[43m,\u001B[49m\u001B[43m \u001B[49m\u001B[43mstart_unix_timestamp\u001B[49m\u001B[43m \u001B[49m\u001B[38;5;241;43m+\u001B[39;49m\u001B[43m \u001B[49m\u001B[43mday_in_seconds\u001B[49m\u001B[43m)\u001B[49m\n\u001B[1;32m     30\u001B[0m \u001B[38;5;66;03m# Sliding window of day by day\u001B[39;00m\n\u001B[1;32m     31\u001B[0m \u001B[38;5;66;03m# for i in range(0, D_DAYS):\u001B[39;00m\n\u001B[1;32m     32\u001B[0m \u001B[38;5;66;03m#     start = D_START_TIMEFRAME + pd.Timedelta(days=i)\u001B[39;00m\n\u001B[0;32m   (...)\u001B[0m\n\u001B[1;32m     35\u001B[0m \u001B[38;5;66;03m#     plt.title(f\"Day {i}\")\u001B[39;00m\n\u001B[1;32m     36\u001B[0m \u001B[38;5;66;03m#     plt.show()\u001B[39;00m\n",
      "Cell \u001B[0;32mIn[39], line 9\u001B[0m, in \u001B[0;36mplot_time_window\u001B[0;34m(graph, start, end)\u001B[0m\n\u001B[1;32m      8\u001B[0m \u001B[38;5;28;01mdef\u001B[39;00m \u001B[38;5;21mplot_time_window\u001B[39m(graph: nx\u001B[38;5;241m.\u001B[39mDiGraph, start: pd\u001B[38;5;241m.\u001B[39mTimestamp, end: pd\u001B[38;5;241m.\u001B[39mTimestamp):\n\u001B[0;32m----> 9\u001B[0m     subgraph \u001B[38;5;241m=\u001B[39m \u001B[43mtime_window\u001B[49m\u001B[43m(\u001B[49m\u001B[43mgraph\u001B[49m\u001B[43m,\u001B[49m\u001B[43m \u001B[49m\u001B[43mstart\u001B[49m\u001B[43m,\u001B[49m\u001B[43m \u001B[49m\u001B[43mend\u001B[49m\u001B[43m)\u001B[49m\n\u001B[1;32m     10\u001B[0m     pos \u001B[38;5;241m=\u001B[39m nx\u001B[38;5;241m.\u001B[39marf_layout(subgraph)\n\u001B[1;32m     11\u001B[0m     nx\u001B[38;5;241m.\u001B[39mdraw(subgraph, pos, with_labels\u001B[38;5;241m=\u001B[39m\u001B[38;5;28;01mFalse\u001B[39;00m, node_size\u001B[38;5;241m=\u001B[39m\u001B[38;5;241m10\u001B[39m)\n",
      "Cell \u001B[0;32mIn[39], line 5\u001B[0m, in \u001B[0;36mtime_window\u001B[0;34m(graph, unix_start, unix_end)\u001B[0m\n\u001B[1;32m      1\u001B[0m \u001B[38;5;28;01mdef\u001B[39;00m \u001B[38;5;21mtime_window\u001B[39m(graph: nx\u001B[38;5;241m.\u001B[39mDiGraph, unix_start: \u001B[38;5;28mint\u001B[39m, unix_end: \u001B[38;5;28mint\u001B[39m) \u001B[38;5;241m-\u001B[39m\u001B[38;5;241m>\u001B[39m nx\u001B[38;5;241m.\u001B[39mDiGraph:\n\u001B[1;32m      2\u001B[0m     \u001B[38;5;28;01mreturn\u001B[39;00m graph\u001B[38;5;241m.\u001B[39medge_subgraph([\n\u001B[1;32m      3\u001B[0m         (source, target)\n\u001B[1;32m      4\u001B[0m         \u001B[38;5;28;01mfor\u001B[39;00m source, target, unix_timestamp \u001B[38;5;129;01min\u001B[39;00m graph\u001B[38;5;241m.\u001B[39medges(data\u001B[38;5;241m=\u001B[39m\u001B[38;5;124m'\u001B[39m\u001B[38;5;124munix_timestamp\u001B[39m\u001B[38;5;124m'\u001B[39m)\n\u001B[0;32m----> 5\u001B[0m         \u001B[38;5;28;01mif\u001B[39;00m \u001B[43munix_start\u001B[49m \u001B[38;5;241m<\u001B[39m\u001B[38;5;241m=\u001B[39m unix_timestamp \u001B[38;5;241m<\u001B[39m\u001B[38;5;241m=\u001B[39m unix_end\n\u001B[1;32m      6\u001B[0m     ])\n",
      "File \u001B[0;32m~/.local/share/JetBrains/Toolbox/apps/pycharm-professional/plugins/python-ce/helpers/pydev/_pydevd_bundle/pydevd_frame.py:755\u001B[0m, in \u001B[0;36mPyDBFrame.trace_dispatch\u001B[0;34m(self, frame, event, arg)\u001B[0m\n\u001B[1;32m    753\u001B[0m \u001B[38;5;66;03m# if thread has a suspend flag, we suspend with a busy wait\u001B[39;00m\n\u001B[1;32m    754\u001B[0m \u001B[38;5;28;01mif\u001B[39;00m info\u001B[38;5;241m.\u001B[39mpydev_state \u001B[38;5;241m==\u001B[39m STATE_SUSPEND:\n\u001B[0;32m--> 755\u001B[0m     \u001B[38;5;28;43mself\u001B[39;49m\u001B[38;5;241;43m.\u001B[39;49m\u001B[43mdo_wait_suspend\u001B[49m\u001B[43m(\u001B[49m\u001B[43mthread\u001B[49m\u001B[43m,\u001B[49m\u001B[43m \u001B[49m\u001B[43mframe\u001B[49m\u001B[43m,\u001B[49m\u001B[43m \u001B[49m\u001B[43mevent\u001B[49m\u001B[43m,\u001B[49m\u001B[43m \u001B[49m\u001B[43marg\u001B[49m\u001B[43m)\u001B[49m\n\u001B[1;32m    756\u001B[0m     \u001B[38;5;66;03m# No need to reset frame.f_trace to keep the same trace function.\u001B[39;00m\n\u001B[1;32m    757\u001B[0m     \u001B[38;5;28;01mreturn\u001B[39;00m \u001B[38;5;28mself\u001B[39m\u001B[38;5;241m.\u001B[39mtrace_dispatch\n",
      "File \u001B[0;32m~/.local/share/JetBrains/Toolbox/apps/pycharm-professional/plugins/python-ce/helpers/pydev/_pydevd_bundle/pydevd_frame.py:412\u001B[0m, in \u001B[0;36mPyDBFrame.do_wait_suspend\u001B[0;34m(self, *args, **kwargs)\u001B[0m\n\u001B[1;32m    411\u001B[0m \u001B[38;5;28;01mdef\u001B[39;00m \u001B[38;5;21mdo_wait_suspend\u001B[39m(\u001B[38;5;28mself\u001B[39m, \u001B[38;5;241m*\u001B[39margs, \u001B[38;5;241m*\u001B[39m\u001B[38;5;241m*\u001B[39mkwargs):\n\u001B[0;32m--> 412\u001B[0m     \u001B[38;5;28;43mself\u001B[39;49m\u001B[38;5;241;43m.\u001B[39;49m\u001B[43m_args\u001B[49m\u001B[43m[\u001B[49m\u001B[38;5;241;43m0\u001B[39;49m\u001B[43m]\u001B[49m\u001B[38;5;241;43m.\u001B[39;49m\u001B[43mdo_wait_suspend\u001B[49m\u001B[43m(\u001B[49m\u001B[38;5;241;43m*\u001B[39;49m\u001B[43margs\u001B[49m\u001B[43m,\u001B[49m\u001B[43m \u001B[49m\u001B[38;5;241;43m*\u001B[39;49m\u001B[38;5;241;43m*\u001B[39;49m\u001B[43mkwargs\u001B[49m\u001B[43m)\u001B[49m\n",
      "File \u001B[0;32m~/.local/share/JetBrains/Toolbox/apps/pycharm-professional/plugins/python-ce/helpers/pydev/pydevd.py:1220\u001B[0m, in \u001B[0;36mPyDB.do_wait_suspend\u001B[0;34m(self, thread, frame, event, arg, send_suspend_message, is_unhandled_exception)\u001B[0m\n\u001B[1;32m   1217\u001B[0m         from_this_thread\u001B[38;5;241m.\u001B[39mappend(frame_id)\n\u001B[1;32m   1219\u001B[0m \u001B[38;5;28;01mwith\u001B[39;00m \u001B[38;5;28mself\u001B[39m\u001B[38;5;241m.\u001B[39m_threads_suspended_single_notification\u001B[38;5;241m.\u001B[39mnotify_thread_suspended(thread_id, stop_reason):\n\u001B[0;32m-> 1220\u001B[0m     \u001B[38;5;28;43mself\u001B[39;49m\u001B[38;5;241;43m.\u001B[39;49m\u001B[43m_do_wait_suspend\u001B[49m\u001B[43m(\u001B[49m\u001B[43mthread\u001B[49m\u001B[43m,\u001B[49m\u001B[43m \u001B[49m\u001B[43mframe\u001B[49m\u001B[43m,\u001B[49m\u001B[43m \u001B[49m\u001B[43mevent\u001B[49m\u001B[43m,\u001B[49m\u001B[43m \u001B[49m\u001B[43marg\u001B[49m\u001B[43m,\u001B[49m\u001B[43m \u001B[49m\u001B[43msuspend_type\u001B[49m\u001B[43m,\u001B[49m\u001B[43m \u001B[49m\u001B[43mfrom_this_thread\u001B[49m\u001B[43m)\u001B[49m\n",
      "File \u001B[0;32m~/.local/share/JetBrains/Toolbox/apps/pycharm-professional/plugins/python-ce/helpers/pydev/pydevd.py:1235\u001B[0m, in \u001B[0;36mPyDB._do_wait_suspend\u001B[0;34m(self, thread, frame, event, arg, suspend_type, from_this_thread)\u001B[0m\n\u001B[1;32m   1232\u001B[0m             \u001B[38;5;28mself\u001B[39m\u001B[38;5;241m.\u001B[39m_call_mpl_hook()\n\u001B[1;32m   1234\u001B[0m         \u001B[38;5;28mself\u001B[39m\u001B[38;5;241m.\u001B[39mprocess_internal_commands()\n\u001B[0;32m-> 1235\u001B[0m         \u001B[43mtime\u001B[49m\u001B[38;5;241;43m.\u001B[39;49m\u001B[43msleep\u001B[49m\u001B[43m(\u001B[49m\u001B[38;5;241;43m0.01\u001B[39;49m\u001B[43m)\u001B[49m\n\u001B[1;32m   1237\u001B[0m \u001B[38;5;28mself\u001B[39m\u001B[38;5;241m.\u001B[39mcancel_async_evaluation(get_current_thread_id(thread), \u001B[38;5;28mstr\u001B[39m(\u001B[38;5;28mid\u001B[39m(frame)))\n\u001B[1;32m   1239\u001B[0m \u001B[38;5;66;03m# process any stepping instructions\u001B[39;00m\n",
      "\u001B[0;31mKeyboardInterrupt\u001B[0m: "
     ]
    }
   ],
   "execution_count": 39
  }
 ],
 "metadata": {
  "kernelspec": {
   "display_name": "Python 3",
   "language": "python",
   "name": "python3"
  },
  "language_info": {
   "codemirror_mode": {
    "name": "ipython",
    "version": 2
   },
   "file_extension": ".py",
   "mimetype": "text/x-python",
   "name": "python",
   "nbconvert_exporter": "python",
   "pygments_lexer": "ipython2",
   "version": "2.7.6"
  }
 },
 "nbformat": 4,
 "nbformat_minor": 5
}
