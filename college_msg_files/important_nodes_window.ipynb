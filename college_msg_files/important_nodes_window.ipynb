{
 "cells": [
  {
   "metadata": {},
   "cell_type": "markdown",
   "source": "# Imports and Data",
   "id": "b891a735ab949470"
  },
  {
   "cell_type": "code",
   "id": "initial_id",
   "metadata": {
    "collapsed": true,
    "ExecuteTime": {
     "end_time": "2024-11-03T17:37:14.316775Z",
     "start_time": "2024-11-03T17:37:14.304610Z"
    }
   },
   "source": [
    "from typing import NamedTuple\n",
    "import pandas as pd\n",
    "from pathlib import Path\n",
    "import networkx as nx\n",
    "import matplotlib.pyplot as plt\n",
    "from tqdm import tqdm\n",
    "from functools import lru_cache\n",
    "\n",
    "\n",
    "class CollegeMessage(NamedTuple):\n",
    "    source: int  #source id\n",
    "    target: int  # target id\n",
    "    unix_timestamp: int  # seconds after last epoc\n",
    "\n",
    "\n",
    "def read_message_data(datapath: str) -> list[CollegeMessage]:\n",
    "    filepath = Path.cwd() / Path(datapath)\n",
    "\n",
    "    if not filepath.exists():\n",
    "        raise FileNotFoundError(\n",
    "            f\"File not found: {filepath}; \" +\n",
    "            f\"Current working directory: {Path.cwd()}; \" +\n",
    "            f\"Relative path to data file: {Path(datapath)}\"\n",
    "        )\n",
    "\n",
    "    print(f\"Using file: {filepath.absolute()}\")\n",
    "\n",
    "    messages = []\n",
    "    with open(filepath, 'r', encoding=\"UTF-8\") as f:\n",
    "        for line in f:\n",
    "            source, target, timestamp = line.strip().split()\n",
    "            messages.append(CollegeMessage(int(source), int(target), int(timestamp)))\n",
    "    print(\"done\")\n",
    "    return messages\n",
    "\n",
    "\n",
    "def remove_low_degree_nodes(data: pd.DataFrame, min_degree: int) -> pd.DataFrame:\n",
    "    in_degree = data['target'].value_counts()\n",
    "    out_degree = data['source'].value_counts()\n",
    "    high_degree_nodes = set(in_degree[in_degree >= min_degree].index) & set(out_degree[out_degree >= min_degree].index)\n",
    "    return data[data['source'].isin(high_degree_nodes) & data['target'].isin(high_degree_nodes)]\n",
    "\n",
    "\n",
    "def create_graph(data: pd.DataFrame) -> nx.DiGraph:\n",
    "    digraph = nx.DiGraph()\n",
    "\n",
    "    for row in data.itertuples(index=False):\n",
    "        digraph.add_edge(row.source, row.target, timestamp=row.unix_timestamp)\n",
    "\n",
    "    return digraph\n",
    "\n",
    "\n",
    "def graph_figure(graph: nx.DiGraph):\n",
    "    pos = nx.arf_layout(graph)\n",
    "    nx.draw(graph, pos, with_labels=False, node_size=10)\n",
    "\n",
    "\n",
    "# Layout calculations, cached by LRU to avoid recalculating the layout\n",
    "@lru_cache(maxsize=None)\n",
    "def cache_layout(graph: nx.DiGraph, layout_func: callable):\n",
    "    print(\"Calculating layout ...\")\n",
    "    layout = layout_func(graph)\n",
    "    print(\"... done calculating layout\")\n",
    "    return layout"
   ],
   "outputs": [],
   "execution_count": 22
  },
  {
   "metadata": {
    "ExecuteTime": {
     "end_time": "2024-11-03T17:37:15.241748Z",
     "start_time": "2024-11-03T17:37:14.331009Z"
    }
   },
   "cell_type": "code",
   "source": [
    "_DATA_PATH = \"./dataset/CollegeMsg.txt\"\n",
    "\n",
    "_MESSAGES = read_message_data(_DATA_PATH)\n",
    "\n",
    "DF_MESSAGES = remove_low_degree_nodes(pd.DataFrame(_MESSAGES), 2)\n",
    "\n",
    "GRAPH_MESSAGES = create_graph(DF_MESSAGES)"
   ],
   "id": "fd787e6743403ac0",
   "outputs": [
    {
     "name": "stdout",
     "output_type": "stream",
     "text": [
      "Using file: C:\\Users\\majerm\\projects\\local\\rug-sna-pizza-giving\\college_msg_files\\dataset\\CollegeMsg.txt\n",
      "done\n"
     ]
    }
   ],
   "execution_count": 23
  },
  {
   "metadata": {
    "ExecuteTime": {
     "end_time": "2024-11-03T17:37:15.263177Z",
     "start_time": "2024-11-03T17:37:15.253867Z"
    }
   },
   "cell_type": "code",
   "source": [
    "from matplotlib.colors import Normalize\n",
    "\n",
    "\n",
    "def export_graph(\n",
    "        graph: nx.DiGraph,\n",
    "        pos: dict,\n",
    "        export_path: Path = None,\n",
    "        fig_size=(20, 20),\n",
    "        base_node_size=0,\n",
    "        node_size_factor=10,\n",
    "        edge_alpha=0.2,\n",
    "        node_color_map='viridis',\n",
    "        default_node_color='lightgray',\n",
    "        edge_color='gray',\n",
    "        dpi=300,\n",
    "        xlim=None,\n",
    "        ylim=None\n",
    "):\n",
    "    \"\"\"\n",
    "    Exports a NetworkX graph to an image file with consistent styling and a colormap based on node message counts.\n",
    "\n",
    "    Parameters:\n",
    "    - graph (nx.DiGraph): The directed graph to export.\n",
    "    - pos (dict): A dictionary specifying node positions.\n",
    "    - export_path (Path, optional): Path to save the exported image. If None, the image is not saved.\n",
    "    - fig_size (tuple, optional): Size of the figure in inches. Defaults to (10, 10).\n",
    "    - base_node_size (int, optional): Base size for nodes. Defaults to 100.\n",
    "    - node_size_factor (int, optional): Factor to scale node sizes based on degree. Defaults to 20.\n",
    "    - edge_alpha (float, optional): Transparency level for edges (0 to 1). Defaults to 0.3.\n",
    "    - node_color_map (str, optional): Matplotlib colormap name for node colors. Defaults to 'viridis'.\n",
    "    - default_node_color (str, optional): Color for nodes with zero messages. Defaults to 'lightgray'.\n",
    "    - edge_color (str or list, optional): Color of the edges. Defaults to 'gray'.\n",
    "    - dpi (int, optional): Dots per inch for the saved image. Defaults to 300.\n",
    "    - xlim (tuple, optional): Limits for the x-axis.\n",
    "    - ylim (tuple, optional): Limits for the y-axis.\n",
    "    \"\"\"\n",
    "\n",
    "    # Create a new figure with the specified size\n",
    "    plt.figure(figsize=fig_size)\n",
    "\n",
    "    # Calculate the total degree (in-degree + out-degree) for each node\n",
    "    degrees = {node: graph.in_degree(node) + graph.out_degree(node) for node in graph.nodes()}\n",
    "\n",
    "    # Scale node sizes based on their degrees\n",
    "    node_sizes = [base_node_size + degrees[node] * node_size_factor for node in graph.nodes()]\n",
    "\n",
    "    # Prepare color mapping based on degrees\n",
    "    non_zero_degrees = [deg for deg in degrees.values() if deg > 0]\n",
    "\n",
    "    if non_zero_degrees:\n",
    "        norm = Normalize(vmin=min(non_zero_degrees), vmax=max(non_zero_degrees))\n",
    "        cmap = plt.colormaps.get_cmap(node_color_map)\n",
    "        node_colors = [\n",
    "            cmap(norm(degrees[node])) if degrees[node] > 0 else default_node_color\n",
    "            for node in graph.nodes()\n",
    "        ]\n",
    "    else:\n",
    "        node_colors = [default_node_color for _ in graph.nodes()]\n",
    "\n",
    "    # Draw edges with specified transparency\n",
    "    nx.draw_networkx_edges(\n",
    "        graph,\n",
    "        pos,\n",
    "        alpha=edge_alpha,\n",
    "        edge_color=edge_color,\n",
    "        arrows=True,\n",
    "        arrowstyle='->',\n",
    "        arrowsize=10,\n",
    "        connectionstyle='arc3,rad=0.1'\n",
    "    )\n",
    "\n",
    "    # Draw nodes with scaled sizes and color mapping\n",
    "    nx.draw_networkx_nodes(\n",
    "        graph,\n",
    "        pos,\n",
    "        node_size=node_sizes,\n",
    "        node_color=node_colors,\n",
    "        linewidths=0.5\n",
    "    )\n",
    "\n",
    "    # Set consistent axis limits\n",
    "    if xlim and ylim:\n",
    "        plt.xlim(xlim)\n",
    "        plt.ylim(ylim)\n",
    "\n",
    "    # Optional: Remove axes for a cleaner look\n",
    "    plt.axis('off')\n",
    "\n",
    "    # Save the figure if an export path is provided\n",
    "    if export_path:\n",
    "        # Ensure the parent directory exists\n",
    "        export_path.parent.mkdir(parents=True, exist_ok=True)\n",
    "        plt.savefig(export_path, bbox_inches='tight', dpi=dpi, pad_inches=0.1)\n",
    "    else:\n",
    "        plt.show()\n",
    "\n",
    "    # Close the figure to free up memory\n",
    "    plt.close()"
   ],
   "id": "8cf64c0b78160262",
   "outputs": [],
   "execution_count": 24
  },
  {
   "metadata": {},
   "cell_type": "markdown",
   "source": "# Important Nodes",
   "id": "aad973714c18edbf"
  },
  {
   "metadata": {
    "ExecuteTime": {
     "end_time": "2024-11-03T17:38:45.863201Z",
     "start_time": "2024-11-03T17:37:15.276386Z"
    }
   },
   "cell_type": "code",
   "source": [
    "# Calculate betweenness centrality\n",
    "betweenness = nx.betweenness_centrality(GRAPH_MESSAGES)\n",
    "\n",
    "# Find the top 3 nodes with the highest betweenness centrality\n",
    "top_3_betweenness_nodes = sorted(betweenness, key=betweenness.get, reverse=True)[:3]\n",
    "\n",
    "# Layout for positioning the nodes, using the cached layout\n",
    "pos = cache_layout(GRAPH_MESSAGES, nx.arf_layout)    "
   ],
   "id": "ffdfc4be34d1a88f",
   "outputs": [
    {
     "name": "stdout",
     "output_type": "stream",
     "text": [
      "Calculating layout ...\n",
      "... done calculating layout\n"
     ]
    }
   ],
   "execution_count": 25
  },
  {
   "metadata": {
    "ExecuteTime": {
     "end_time": "2024-11-03T17:39:52.396512Z",
     "start_time": "2024-11-03T17:38:45.905747Z"
    }
   },
   "cell_type": "code",
   "source": [
    "# Export the graph visualization\n",
    "# export_graph(GRAPH_MESSAGES, pos)\n",
    "export_graph(GRAPH_MESSAGES, pos, export_path=Path(\"./.export/important_nodes.png\"))"
   ],
   "id": "e3018b8371969fca",
   "outputs": [],
   "execution_count": 26
  }
 ],
 "metadata": {
  "kernelspec": {
   "display_name": "Python 3",
   "language": "python",
   "name": "python3"
  },
  "language_info": {
   "codemirror_mode": {
    "name": "ipython",
    "version": 2
   },
   "file_extension": ".py",
   "mimetype": "text/x-python",
   "name": "python",
   "nbconvert_exporter": "python",
   "pygments_lexer": "ipython2",
   "version": "2.7.6"
  }
 },
 "nbformat": 4,
 "nbformat_minor": 5
}
