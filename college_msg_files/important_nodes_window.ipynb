{
 "cells": [
  {
   "metadata": {},
   "cell_type": "markdown",
   "source": "# Imports and Data",
   "id": "b891a735ab949470"
  },
  {
   "cell_type": "code",
   "id": "initial_id",
   "metadata": {
    "collapsed": true,
    "ExecuteTime": {
     "end_time": "2024-11-03T20:09:53.554861Z",
     "start_time": "2024-11-03T20:09:53.061413Z"
    }
   },
   "source": [
    "from typing import NamedTuple\n",
    "import pandas as pd\n",
    "from pathlib import Path\n",
    "import networkx as nx\n",
    "import matplotlib.pyplot as plt\n",
    "from tqdm import tqdm\n",
    "from functools import lru_cache\n",
    "\n",
    "\n",
    "class CollegeMessage(NamedTuple):\n",
    "    source: int  #source id\n",
    "    target: int  # target id\n",
    "    unix_timestamp: int  # seconds after last epoc\n",
    "\n",
    "\n",
    "def read_message_data(datapath: str) -> list[CollegeMessage]:\n",
    "    filepath = Path.cwd() / Path(datapath)\n",
    "\n",
    "    if not filepath.exists():\n",
    "        raise FileNotFoundError(\n",
    "            f\"File not found: {filepath}; \" +\n",
    "            f\"Current working directory: {Path.cwd()}; \" +\n",
    "            f\"Relative path to data file: {Path(datapath)}\"\n",
    "        )\n",
    "\n",
    "    print(f\"Using file: {filepath.absolute()}\")\n",
    "\n",
    "    messages = []\n",
    "    with open(filepath, 'r', encoding=\"UTF-8\") as f:\n",
    "        for line in f:\n",
    "            source, target, timestamp = line.strip().split()\n",
    "            messages.append(CollegeMessage(int(source), int(target), int(timestamp)))\n",
    "    print(\"done\")\n",
    "    return messages\n",
    "\n",
    "\n",
    "def remove_low_degree_nodes(data: pd.DataFrame, min_degree: int) -> pd.DataFrame:\n",
    "    in_degree = data['target'].value_counts()\n",
    "    out_degree = data['source'].value_counts()\n",
    "    high_degree_nodes = set(in_degree[in_degree >= min_degree].index) & set(out_degree[out_degree >= min_degree].index)\n",
    "    return data[data['source'].isin(high_degree_nodes) & data['target'].isin(high_degree_nodes)]\n",
    "\n",
    "\n",
    "def create_graph(data: pd.DataFrame) -> nx.DiGraph:\n",
    "    digraph = nx.DiGraph()\n",
    "\n",
    "    for row in data.itertuples(index=False):\n",
    "        digraph.add_edge(row.source, row.target, timestamp=row.unix_timestamp)\n",
    "\n",
    "    return digraph\n",
    "\n",
    "\n",
    "def graph_figure(graph: nx.DiGraph):\n",
    "    pos = nx.arf_layout(graph)\n",
    "    nx.draw(graph, pos, with_labels=False, node_size=10)\n",
    "\n",
    "\n",
    "# Layout calculations, cached by LRU to avoid recalculating the layout\n",
    "@lru_cache(maxsize=None)\n",
    "def cache_layout(graph: nx.DiGraph, layout_func: callable):\n",
    "    print(\"Calculating layout ...\")\n",
    "    layout = layout_func(graph)\n",
    "    print(\"... done calculating layout\")\n",
    "    return layout"
   ],
   "outputs": [],
   "execution_count": 55
  },
  {
   "metadata": {
    "ExecuteTime": {
     "end_time": "2024-11-03T20:09:55.605631Z",
     "start_time": "2024-11-03T20:09:53.571217Z"
    }
   },
   "cell_type": "code",
   "source": [
    "_DATA_PATH = \"./dataset/CollegeMsg.txt\"\n",
    "\n",
    "_MESSAGES = read_message_data(_DATA_PATH)\n",
    "\n",
    "DF_MESSAGES = remove_low_degree_nodes(pd.DataFrame(_MESSAGES), 2)\n",
    "\n",
    "GRAPH_MESSAGES = create_graph(DF_MESSAGES)"
   ],
   "id": "fd787e6743403ac0",
   "outputs": [
    {
     "name": "stdout",
     "output_type": "stream",
     "text": [
      "Using file: C:\\Users\\majerm\\projects\\local\\rug-sna-pizza-giving\\college_msg_files\\dataset\\CollegeMsg.txt\n",
      "done\n"
     ]
    }
   ],
   "execution_count": 56
  },
  {
   "metadata": {
    "ExecuteTime": {
     "end_time": "2024-11-03T20:09:55.629877Z",
     "start_time": "2024-11-03T20:09:55.619741Z"
    }
   },
   "cell_type": "code",
   "source": [
    "from matplotlib.colors import Normalize\n",
    "\n",
    "\n",
    "def export_graph_directed(\n",
    "        graph: nx.DiGraph,\n",
    "        pos: dict,\n",
    "        title: str,\n",
    "        export_path: Path = None,\n",
    "        fig_size=(20, 20),\n",
    "        base_node_size=0,\n",
    "        node_size_factor=10,\n",
    "        edge_alpha=0.2,\n",
    "        node_color_map='viridis',\n",
    "        default_node_color='lightgray',\n",
    "        edge_color='gray',\n",
    "        dpi=300,\n",
    "        xlim=None,\n",
    "        ylim=None,\n",
    "        highlight_nodes=None\n",
    "):\n",
    "    \"\"\"\n",
    "    Exports a NetworkX graph to an image file with consistent styling and a colormap based on node message counts.\n",
    "\n",
    "    Parameters:\n",
    "    - graph (nx.DiGraph): The directed graph to export.\n",
    "    - pos (dict): A dictionary specifying node positions.\n",
    "    - export_path (Path, optional): Path to save the exported image. If None, the image is not saved.\n",
    "    - fig_size (tuple, optional): Size of the figure in inches. Defaults to (10, 10).\n",
    "    - base_node_size (int, optional): Base size for nodes. Defaults to 100.\n",
    "    - node_size_factor (int, optional): Factor to scale node sizes based on degree. Defaults to 20.\n",
    "    - edge_alpha (float, optional): Transparency level for edges (0 to 1). Defaults to 0.3.\n",
    "    - node_color_map (str, optional): Matplotlib colormap name for node colors. Defaults to 'viridis'.\n",
    "    - default_node_color (str, optional): Color for nodes with zero messages. Defaults to 'lightgray'.\n",
    "    - edge_color (str or list, optional): Color of the edges. Defaults to 'gray'.\n",
    "    - dpi (int, optional): Dots per inch for the saved image. Defaults to 300.\n",
    "    - xlim (tuple, optional): Limits for the x-axis.\n",
    "    - ylim (tuple, optional): Limits for the y-axis.\n",
    "    - highlight_nodes (list, optional): Nodes to highlight in the graph.\n",
    "    \"\"\"\n",
    "\n",
    "    # Create a subgraph containing only the specified nodes and their neighbors\n",
    "    nodes_to_include = set()\n",
    "    for node in highlight_nodes:\n",
    "        if node in graph:\n",
    "            nodes_to_include.add(node)\n",
    "            nodes_to_include.update(graph.neighbors(node))\n",
    "    subgraph = graph.subgraph(nodes_to_include)\n",
    "\n",
    "\n",
    "    # Create a new figure with the specified size\n",
    "    plt.figure(figsize=fig_size)\n",
    "\n",
    "    # Calculate the total degree (in-degree + out-degree) for each node in the subgraph\n",
    "    degrees = {node: subgraph.in_degree(node) + subgraph.out_degree(node) for node in subgraph.nodes()}\n",
    "\n",
    "    # Scale node sizes based on their degrees\n",
    "    node_sizes = [base_node_size + degrees[node] * node_size_factor for node in subgraph.nodes()]\n",
    "\n",
    "    # Prepare color mapping based on degreesn\n",
    "    non_zero_degrees = [deg for deg in degrees.values() if deg > 0]\n",
    "\n",
    "    if non_zero_degrees:\n",
    "        norm = Normalize(vmin=min(non_zero_degrees), vmax=max(non_zero_degrees))\n",
    "        cmap = plt.colormaps.get_cmap(node_color_map)\n",
    "        node_colors = [\n",
    "            cmap(norm(degrees[node])) if degrees[node] > 0 else default_node_color\n",
    "            for node in subgraph.nodes()\n",
    "        ]\n",
    "    else:\n",
    "        node_colors = [default_node_color for _ in subgraph.nodes()]\n",
    "\n",
    "    # Draw edges with specified transparency\n",
    "    nx.draw_networkx_edges(\n",
    "        subgraph,\n",
    "        pos,\n",
    "        alpha=edge_alpha,\n",
    "        edge_color=edge_color,\n",
    "        arrows=True,\n",
    "        arrowstyle='->',\n",
    "        arrowsize=10,\n",
    "        connectionstyle='arc3,rad=0.1'\n",
    "    )\n",
    "\n",
    "    # Draw nodes with scaled sizes and color mapping\n",
    "    nx.draw_networkx_nodes(\n",
    "        subgraph,\n",
    "        pos,\n",
    "        node_size=node_sizes,\n",
    "        node_color=node_colors,\n",
    "        linewidths=0.5\n",
    "    )\n",
    "\n",
    "    # Highlight the specified nodes\n",
    "    # nx.draw_networkx_nodes(\n",
    "    #     subgraph,\n",
    "    #     pos,\n",
    "    #     nodelist=highlight_nodes,\n",
    "    #     node_color='red',\n",
    "    #     node_size=600,  # Increased size for emphasis\n",
    "    #     alpha=1.0\n",
    "    # )\n",
    "\n",
    "    # Add labels to the highlighted nodes for clarity\n",
    "    nx.draw_networkx_labels(\n",
    "        subgraph,\n",
    "        pos,\n",
    "        labels={node: node for node in highlight_nodes},\n",
    "        font_size=16,\n",
    "        font_color='black'\n",
    "    )\n",
    "\n",
    "    # Add graph label with number of nodes and edges\n",
    "    plt.title(title)\n",
    "\n",
    "    # Set consistent axis limits\n",
    "    if xlim and ylim:\n",
    "        plt.xlim(xlim)\n",
    "        plt.ylim(ylim)\n",
    "\n",
    "    # Optional: Remove axes for a cleaner look\n",
    "    plt.axis('off')\n",
    "\n",
    "    # Save the figure if an export path is provided\n",
    "    if export_path:\n",
    "        # Ensure the parent directory exists\n",
    "        export_path.parent.mkdir(parents=True, exist_ok=True)\n",
    "        # Generate a unique file name if the file already exists\n",
    "        counter = 0\n",
    "        new_export_path = export_path\n",
    "        while new_export_path.exists():\n",
    "            counter += 1\n",
    "            new_export_path = export_path.with_name(f\"{export_path.stem}_{counter:02d}{export_path.suffix}\")\n",
    "        plt.savefig(new_export_path, bbox_inches='tight', dpi=dpi, pad_inches=0.1)\n",
    "\n",
    "    # Close the figure to free up memory\n",
    "    plt.close()"
   ],
   "id": "8cf64c0b78160262",
   "outputs": [],
   "execution_count": 57
  },
  {
   "metadata": {
    "ExecuteTime": {
     "end_time": "2024-11-03T20:09:55.650857Z",
     "start_time": "2024-11-03T20:09:55.642488Z"
    }
   },
   "cell_type": "code",
   "source": [
    "from datetime import datetime\n",
    "import math\n",
    "\n",
    "\n",
    "# Define function to export graphs over sliding time windows\n",
    "def export_time_windows_directed(pos: dict, highlight_nodes, window_size_days, window_step_days):\n",
    "    \"\"\"\n",
    "    Exports graph visualizations for each time window into uniquely numbered folders.\n",
    "    Each graph is directed, showcasing the evolution of the neighborhood of a given node.\n",
    "\n",
    "    Parameters:\n",
    "    - pos (dict): A dictionary specifying node positions.\n",
    "    - window_size_days (int): Size of each time window in days.\n",
    "    - window_step_days (int): Step size between windows in days.\n",
    "    - highlight_nodes (list): Nodes to highlight in each graph.\n",
    "    - max_windows (int, optional): Maximum number of windows to export.\n",
    "    \"\"\"\n",
    "    start_unix_timestamp = DF_MESSAGES['unix_timestamp'].min()\n",
    "    end_unix_timestamp = DF_MESSAGES['unix_timestamp'].max()\n",
    "\n",
    "    day_in_seconds = 60 * 60 * 24\n",
    "    window_in_seconds = window_size_days * day_in_seconds\n",
    "    window_step_in_seconds = window_step_days * day_in_seconds\n",
    "    total_seconds = end_unix_timestamp - start_unix_timestamp\n",
    "    total_windows = max(1, math.ceil((total_seconds - window_in_seconds) / window_step_in_seconds) + 1)\n",
    "\n",
    "    # Generate timeframes for each window\n",
    "    timeframes = (\n",
    "        start_unix_timestamp + window_step_in_seconds * i\n",
    "        for i in range(total_windows)\n",
    "    )\n",
    "\n",
    "    # Determine the next export folder using pathlib\n",
    "    export_base = Path(\"./.export\")\n",
    "    export_base.mkdir(exist_ok=True)\n",
    "\n",
    "    # Find all existing subdirectories with two-digit numeric names\n",
    "    existing_folders = [\n",
    "        folder for folder in export_base.iterdir()\n",
    "        if folder.is_dir() and folder.name.isdigit() and len(folder.name) == 2\n",
    "    ]\n",
    "\n",
    "    if existing_folders:\n",
    "        max_num = max(int(folder.name) for folder in existing_folders)\n",
    "    else:\n",
    "        max_num = -1\n",
    "\n",
    "    # Determine the name of the next folder\n",
    "    new_folder_name = f\"important - window {window_size_days} every {window_step_days}\"\n",
    "    new_folder = export_base / new_folder_name\n",
    "\n",
    "    if new_folder.exists():\n",
    "        print(f\"Skipping folder: '{new_folder_name}' as it exists already\")\n",
    "        return\n",
    "    \n",
    "    new_folder.mkdir()\n",
    "\n",
    "    # Calculate consistent axis limits\n",
    "    x_values = [pos[node][0] for node in pos]\n",
    "    y_values = [pos[node][1] for node in pos]\n",
    "    x_min, x_max = min(x_values), max(x_values)\n",
    "    y_min, y_max = min(y_values), max(y_values)\n",
    "    x_padding = (x_max - x_min) * 0.05\n",
    "    y_padding = (y_max - y_min) * 0.05\n",
    "    xlim = (x_min - x_padding, x_max + x_padding)\n",
    "    ylim = (y_min - y_padding, y_max + y_padding)\n",
    "\n",
    "    # Iterate over each timeframe and export the corresponding graph image\n",
    "    for i, timeframe in tqdm(enumerate(timeframes), total=total_windows, desc=\"Exporting graphs\"):\n",
    "        # Filter messages within the current timeframe\n",
    "        start_time = timeframe\n",
    "        end_time = timeframe + window_in_seconds\n",
    "        filtered_messages = DF_MESSAGES[(DF_MESSAGES['unix_timestamp'] >= start_time) & (DF_MESSAGES['unix_timestamp'] < end_time)]\n",
    "\n",
    "        # Create a subgraph for the current timeframe\n",
    "        subgraph = create_graph(filtered_messages)\n",
    "\n",
    "        # Export the graph image\n",
    "        export_path = new_folder / f\"graph_{i:02}.png\"\n",
    "        export_graph_directed(\n",
    "            subgraph,\n",
    "            pos,\n",
    "            f\"{i:03} ~ {datetime.fromtimestamp(timeframe).strftime(\"%B %d\")} - {datetime.fromtimestamp(timeframe + window_in_seconds).strftime(\"%B %d\")}\",\n",
    "            export_path=export_path,\n",
    "            node_color_map='plasma',\n",
    "            default_node_color='lightgray',\n",
    "            xlim=xlim,\n",
    "            ylim=ylim,\n",
    "            highlight_nodes=highlight_nodes\n",
    "        )"
   ],
   "id": "9b40c5c6c6deb1fc",
   "outputs": [],
   "execution_count": 58
  },
  {
   "metadata": {},
   "cell_type": "markdown",
   "source": "# Important Nodes",
   "id": "aad973714c18edbf"
  },
  {
   "metadata": {
    "ExecuteTime": {
     "end_time": "2024-11-03T20:11:52.659170Z",
     "start_time": "2024-11-03T20:09:55.716527Z"
    }
   },
   "cell_type": "code",
   "source": [
    "# Calculate betweenness centrality\n",
    "betweenness = nx.betweenness_centrality(GRAPH_MESSAGES)\n",
    "\n",
    "# Find the top 3 nodes with the highest betweenness centrality\n",
    "top_3_betweenness_nodes = sorted(betweenness, key=betweenness.get, reverse=True)[:3]\n",
    "\n",
    "# Layout for positioning the nodes, using the cached layout\n",
    "pos = cache_layout(GRAPH_MESSAGES, nx.arf_layout)"
   ],
   "id": "ffdfc4be34d1a88f",
   "outputs": [
    {
     "name": "stdout",
     "output_type": "stream",
     "text": [
      "Calculating layout ...\n",
      "... done calculating layout\n"
     ]
    }
   ],
   "execution_count": 61
  },
  {
   "metadata": {
    "ExecuteTime": {
     "end_time": "2024-11-03T20:26:04.968757Z",
     "start_time": "2024-11-03T20:13:31.792400Z"
    }
   },
   "cell_type": "code",
   "source": [
    "variations = (\n",
    "    (7 * step, step) \n",
    "    for step in range(1, 8)\n",
    ")\n",
    "\n",
    "for variation in variations:\n",
    "    export_time_windows_directed(cache_layout(GRAPH_MESSAGES, nx.arf_layout), top_3_betweenness_nodes, *variation)"
   ],
   "id": "a581055dc95cc2ec",
   "outputs": [
    {
     "name": "stdout",
     "output_type": "stream",
     "text": [
      "Exporting graphs to folder: .export\\00\n"
     ]
    },
    {
     "name": "stderr",
     "output_type": "stream",
     "text": [
      "Exporting graphs: 100%|██████████| 182/182 [03:14<00:00,  1.07s/it]\n"
     ]
    },
    {
     "name": "stdout",
     "output_type": "stream",
     "text": [
      "All graphs have been exported to .export\\00\n",
      "Exporting graphs to folder: .export\\01\n"
     ]
    },
    {
     "name": "stderr",
     "output_type": "stream",
     "text": [
      "Exporting graphs: 100%|██████████| 88/88 [02:10<00:00,  1.48s/it]\n"
     ]
    },
    {
     "name": "stdout",
     "output_type": "stream",
     "text": [
      "All graphs have been exported to .export\\01\n",
      "Exporting graphs to folder: .export\\02\n"
     ]
    },
    {
     "name": "stderr",
     "output_type": "stream",
     "text": [
      "Exporting graphs: 100%|██████████| 57/57 [01:47<00:00,  1.88s/it]\n"
     ]
    },
    {
     "name": "stdout",
     "output_type": "stream",
     "text": [
      "All graphs have been exported to .export\\02\n",
      "Exporting graphs to folder: .export\\03\n"
     ]
    },
    {
     "name": "stderr",
     "output_type": "stream",
     "text": [
      "Exporting graphs: 100%|██████████| 41/41 [01:33<00:00,  2.29s/it]\n"
     ]
    },
    {
     "name": "stdout",
     "output_type": "stream",
     "text": [
      "All graphs have been exported to .export\\03\n",
      "Exporting graphs to folder: .export\\04\n"
     ]
    },
    {
     "name": "stderr",
     "output_type": "stream",
     "text": [
      "Exporting graphs: 100%|██████████| 32/32 [01:23<00:00,  2.61s/it]\n"
     ]
    },
    {
     "name": "stdout",
     "output_type": "stream",
     "text": [
      "All graphs have been exported to .export\\04\n",
      "Exporting graphs to folder: .export\\05\n"
     ]
    },
    {
     "name": "stderr",
     "output_type": "stream",
     "text": [
      "Exporting graphs: 100%|██████████| 26/26 [01:14<00:00,  2.88s/it]\n"
     ]
    },
    {
     "name": "stdout",
     "output_type": "stream",
     "text": [
      "All graphs have been exported to .export\\05\n",
      "Exporting graphs to folder: .export\\06\n"
     ]
    },
    {
     "name": "stderr",
     "output_type": "stream",
     "text": [
      "Exporting graphs: 100%|██████████| 21/21 [01:08<00:00,  3.26s/it]"
     ]
    },
    {
     "name": "stdout",
     "output_type": "stream",
     "text": [
      "All graphs have been exported to .export\\06\n"
     ]
    },
    {
     "name": "stderr",
     "output_type": "stream",
     "text": [
      "\n"
     ]
    }
   ],
   "execution_count": 64
  }
 ],
 "metadata": {
  "kernelspec": {
   "display_name": "Python 3",
   "language": "python",
   "name": "python3"
  },
  "language_info": {
   "codemirror_mode": {
    "name": "ipython",
    "version": 2
   },
   "file_extension": ".py",
   "mimetype": "text/x-python",
   "name": "python",
   "nbconvert_exporter": "python",
   "pygments_lexer": "ipython2",
   "version": "2.7.6"
  }
 },
 "nbformat": 4,
 "nbformat_minor": 5
}
