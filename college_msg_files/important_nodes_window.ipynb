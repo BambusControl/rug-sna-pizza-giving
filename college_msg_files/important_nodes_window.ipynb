{
 "cells": [
  {
   "metadata": {},
   "cell_type": "markdown",
   "source": "# Imports and Data",
   "id": "b891a735ab949470"
  },
  {
   "cell_type": "code",
   "id": "initial_id",
   "metadata": {
    "collapsed": true,
    "ExecuteTime": {
     "end_time": "2024-11-03T17:12:05.509859Z",
     "start_time": "2024-11-03T17:12:04.202307Z"
    }
   },
   "source": [
    "from typing import NamedTuple\n",
    "import pandas as pd\n",
    "from pathlib import Path\n",
    "import networkx as nx\n",
    "import matplotlib.pyplot as plt\n",
    "from tqdm import tqdm\n",
    "from functools import lru_cache\n",
    "\n",
    "\n",
    "class CollegeMessage(NamedTuple):\n",
    "    source: int  #source id\n",
    "    target: int  # target id\n",
    "    unix_timestamp: int  # seconds after last epoc\n",
    "\n",
    "\n",
    "def read_message_data(datapath: str) -> list[CollegeMessage]:\n",
    "    filepath = Path.cwd() / Path(datapath)\n",
    "\n",
    "    if not filepath.exists():\n",
    "        raise FileNotFoundError(\n",
    "            f\"File not found: {filepath}; \" +\n",
    "            f\"Current working directory: {Path.cwd()}; \" +\n",
    "            f\"Relative path to data file: {Path(datapath)}\"\n",
    "        )\n",
    "\n",
    "    print(f\"Using file: {filepath.absolute()}\")\n",
    "\n",
    "    messages = []\n",
    "    with open(filepath, 'r', encoding=\"UTF-8\") as f:\n",
    "        for line in f:\n",
    "            source, target, timestamp = line.strip().split()\n",
    "            messages.append(CollegeMessage(int(source), int(target), int(timestamp)))\n",
    "    print(\"done\")\n",
    "    return messages\n",
    "\n",
    "\n",
    "def remove_low_degree_nodes(data: pd.DataFrame, min_degree: int) -> pd.DataFrame:\n",
    "    in_degree = data['target'].value_counts()\n",
    "    out_degree = data['source'].value_counts()\n",
    "    high_degree_nodes = set(in_degree[in_degree >= min_degree].index) & set(out_degree[out_degree >= min_degree].index)\n",
    "    return data[data['source'].isin(high_degree_nodes) & data['target'].isin(high_degree_nodes)]\n",
    "\n",
    "\n",
    "def create_graph(data: pd.DataFrame) -> nx.DiGraph:\n",
    "    digraph = nx.DiGraph()\n",
    "\n",
    "    for row in data.itertuples(index=False):\n",
    "        digraph.add_edge(row.source, row.target, timestamp=row.unix_timestamp)\n",
    "\n",
    "    return digraph\n",
    "\n",
    "\n",
    "def graph_figure(graph: nx.DiGraph):\n",
    "    pos = nx.arf_layout(graph)\n",
    "    nx.draw(graph, pos, with_labels=False, node_size=10)\n",
    "\n",
    "\n",
    "# Layout calculations, cached by LRU to avoid recalculating the layout\n",
    "@lru_cache(maxsize=None)\n",
    "def cache_layout(graph: nx.DiGraph, layout_func: callable):\n",
    "    print(\"Calculating layout ...\")\n",
    "    layout = layout_func(graph)\n",
    "    print(\"... done calculating layout\")\n",
    "    return layout"
   ],
   "outputs": [],
   "execution_count": 1
  },
  {
   "metadata": {
    "ExecuteTime": {
     "end_time": "2024-11-03T17:12:05.742790Z",
     "start_time": "2024-11-03T17:12:05.518570Z"
    }
   },
   "cell_type": "code",
   "source": [
    "_DATA_PATH = \"./dataset/CollegeMsg.txt\"\n",
    "\n",
    "_MESSAGES = read_message_data(_DATA_PATH)\n",
    "\n",
    "DF_MESSAGES = remove_low_degree_nodes(pd.DataFrame(_MESSAGES), 2)\n",
    "\n",
    "GRAPH_MESSAGES = create_graph(DF_MESSAGES)"
   ],
   "id": "fd787e6743403ac0",
   "outputs": [
    {
     "name": "stdout",
     "output_type": "stream",
     "text": [
      "Using file: C:\\Users\\majerm\\projects\\local\\rug-sna-pizza-giving\\college_msg_files\\dataset\\CollegeMsg.txt\n",
      "done\n"
     ]
    }
   ],
   "execution_count": 2
  },
  {
   "metadata": {},
   "cell_type": "markdown",
   "source": "# Important Nodes",
   "id": "aad973714c18edbf"
  },
  {
   "metadata": {
    "jupyter": {
     "is_executing": true
    },
    "ExecuteTime": {
     "start_time": "2024-11-03T17:13:36.502044Z"
    }
   },
   "cell_type": "code",
   "source": [
    "import pandas as pd\n",
    "import networkx as nx\n",
    "import matplotlib.pyplot as plt\n",
    "\n",
    "# Assuming DF_MESSAGES is already imported and GRAPH_MESSAGES is your directed graph\n",
    "\n",
    "# Calculate betweenness centrality\n",
    "betweenness = nx.betweenness_centrality(GRAPH_MESSAGES)\n",
    "\n",
    "# Find the node with the highest betweenness centrality\n",
    "max_betweenness_node = max(betweenness, key=betweenness.get)\n",
    "\n",
    "# Draw the graph focusing on the highest betweenness centrality node\n",
    "plt.figure(figsize=(12, 8))\n",
    "\n",
    "# Layout for positioning the nodes\n",
    "pos = cache_layout(GRAPH_MESSAGES, nx.arf_layout)\n",
    "\n",
    "# Draw all nodes with default color\n",
    "nx.draw_networkx_nodes(GRAPH_MESSAGES, pos, node_color='lightblue', node_size=50, alpha=0.7)\n",
    "\n",
    "# Highlight the node with the highest betweenness centrality\n",
    "nx.draw_networkx_nodes(GRAPH_MESSAGES, pos, nodelist=[max_betweenness_node], node_color='red', node_size=300, alpha=1.0)\n",
    "\n",
    "# Draw edges\n",
    "nx.draw_networkx_edges(GRAPH_MESSAGES, pos, alpha=0.3)\n",
    "\n",
    "# Draw labels for better understanding (optional)\n",
    "nx.draw_networkx_labels(GRAPH_MESSAGES, pos, labels={max_betweenness_node: max_betweenness_node}, font_size=10, font_color='black')\n",
    "\n",
    "# Title for the plot\n",
    "plt.title('Network Visualization Highlighting Node with Highest Betweenness Centrality')\n",
    "\n",
    "# Display the graph\n",
    "plt.show()\n"
   ],
   "id": "ffdfc4be34d1a88f",
   "outputs": [
    {
     "name": "stdout",
     "output_type": "stream",
     "text": [
      "Calculating layout ...\n"
     ]
    }
   ],
   "execution_count": null
  }
 ],
 "metadata": {
  "kernelspec": {
   "display_name": "Python 3",
   "language": "python",
   "name": "python3"
  },
  "language_info": {
   "codemirror_mode": {
    "name": "ipython",
    "version": 2
   },
   "file_extension": ".py",
   "mimetype": "text/x-python",
   "name": "python",
   "nbconvert_exporter": "python",
   "pygments_lexer": "ipython2",
   "version": "2.7.6"
  }
 },
 "nbformat": 4,
 "nbformat_minor": 5
}
